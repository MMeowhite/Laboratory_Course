{
  "nbformat": 4,
  "nbformat_minor": 0,
  "metadata": {
    "colab": {
      "provenance": [],
      "collapsed_sections": [
        "15mBknmvx54T",
        "3tkSvxGQF8Lb",
        "QjV8JGVzGBLd",
        "dpp1_x7ZGXLT",
        "9cUU42eVGjYI",
        "EnvFzukmGwqv"
      ]
    },
    "kernelspec": {
      "name": "python3",
      "display_name": "Python 3"
    },
    "language_info": {
      "name": "python"
    }
  },
  "cells": [
    {
      "cell_type": "markdown",
      "source": [
        "# Introduction to Python and MNIST dataset\n",
        "In todays lecture, we will study the Python and MNIST dataset used in deep learning.\n"
      ],
      "metadata": {
        "id": "na3STc4Pi4hV"
      }
    },
    {
      "cell_type": "markdown",
      "source": [
        "## 0 Python Learning Path\n",
        "Python is a versatile, high-level programming language known for its simplicity and readability. It is widely used in various fields like web development, data analysis, machine learning, automation, and more. Python's syntax is clear and easy to understand, making it a great choice for beginners and experienced developers alike.\n",
        "Key Features of Python:\n",
        "- **Simple and Readable Syntax**: Python code is easy to read and write, using indentation to define code blocks.\n",
        "- **Interpreted Language**: Python is an interpreted language, meaning code is executed line by line, which makes debugging easier.\n",
        "- **Cross-Platform**: Python is platform-independent, which means you can write Python programs that run on Windows, macOS, and Linux without modification.\n",
        "- **Extensive Libraries**: Python has a large standard library and a vibrant ecosystem of third-party libraries, which makes it easy to extend its functionality.\n",
        "- **Community Support**: Python has a large and active community, making it easy to find resources, tutorials, and support."
      ],
      "metadata": {
        "id": "15mBknmvx54T"
      }
    },
    {
      "cell_type": "markdown",
      "source": [
        "Before this lecture, Python learning path is outlined:\n",
        "\n",
        "### 0.1. Introduction to Python\n",
        "   - **Objective**: Learn basic syntax, variables, data types, and simple operations.\n",
        "   - **Resources**:\n",
        "     - [Official Python Tutorial](https://docs.python.org/3/tutorial/)\n",
        "     - Python documentation\n",
        "   - **Topics**:\n",
        "     - Installing Python\n",
        "     - Running Python code\n",
        "     - Variables and data types (int, float, str, list, tuple, dict, set)\n",
        "     - Basic Input/Output\n",
        "     - Comments\n",
        "     - Operators (Arithmetic, Comparison, Logical)\n",
        "\n",
        "### 0.2. Control Flow\n",
        "   - **Objective**: Understand how to use conditional statements and loops.\n",
        "   - **Topics**:\n",
        "     - `if`, `else`, `elif` statements\n",
        "     - `for` and `while` loops\n",
        "     - `break`, `continue`, and `pass`\n",
        "     - List comprehensions\n",
        "\n",
        "### 0.3. Functions and Modules\n",
        "   - **Objective**: Learn how to organize code into reusable pieces using functions and modules.\n",
        "   - **Topics**:\n",
        "     - Defining functions with `def`\n",
        "     - Function arguments and return values\n",
        "     - Variable scope (global vs local)\n",
        "     - Importing and using modules\n",
        "     - Built-in Python modules (e.g., `math`, `datetime`)\n",
        "\n",
        "### 0.4. Data Structures\n",
        "   - **Objective**: Learn about Python's built-in data structures and how to use them efficiently.\n",
        "   - **Topics**:\n",
        "     - Lists and list operations\n",
        "     - Tuples and tuple operations\n",
        "     - Dictionaries and dictionary operations\n",
        "     - Sets and set operations\n",
        "     - String manipulation\n",
        "\n",
        "### 0.5. File Handling\n",
        "   - **Objective**: Learn how to read from and write to files in Python.\n",
        "   - **Topics**:\n",
        "     - Opening files (`open()`)\n",
        "     - Reading files (`read()`, `readlines()`)\n",
        "     - Writing to files (`write()`, `writelines()`)\n",
        "     - Working with file paths (`os.path`)\n",
        "     - Using context managers (`with`)\n",
        "\n",
        "### 0.6. Object-Oriented Programming (OOP)\n",
        "   - **Objective**: Learn the basics of object-oriented programming in Python.\n",
        "   - **Topics**:\n",
        "     - Classes and objects\n",
        "     - Attributes and methods\n",
        "     - `self` keyword\n",
        "     - Constructors (`__init__`)\n",
        "     - Inheritance\n",
        "     - Polymorphism\n",
        "     - Encapsulation\n",
        "     - Method Overriding\n",
        "\n",
        "### 0.7. Error Handling\n",
        "   - **Objective**: Learn how to handle errors and exceptions in Python.\n",
        "   - **Topics**:\n",
        "     - `try`, `except`, `else`, and `finally`\n",
        "     - Custom exceptions\n",
        "     - Assertions\n",
        "     - Common Python exceptions (e.g., `IndexError`, `TypeError`)\n",
        "\n",
        "### 0.8. Working with Libraries and Frameworks\n",
        "   - **Objective**: Learn how to work with popular Python libraries for different tasks.\n",
        "   - **Libraries**:\n",
        "     - **NumPy**: Numerical operations\n",
        "     - **Pandas**: Data analysis\n",
        "     - **Matplotlib**: Data visualization\n",
        "     - **Flask/Django**: Web development\n",
        "     - **Requests**: HTTP requests\n",
        "     - **BeautifulSoup**: Web scraping\n",
        "\n",
        "### 0.9. Testing and Debugging\n",
        "   - **Objective**: Learn the essentials of testing and debugging in Python.\n",
        "   - **Topics**:\n",
        "     - Using `print()` for debugging\n",
        "     - The `pdb` module (Python Debugger)\n",
        "     - Unit testing with `unittest`\n",
        "     - Assertions in tests\n",
        "     - Test-Driven Development (TDD)\n",
        "\n",
        "### 0.10. Working with APIs\n",
        "   - **Objective**: Learn how to interact with APIs using Python.\n",
        "   - **Topics**:\n",
        "     - Making HTTP requests with `requests`\n",
        "     - Working with JSON data\n",
        "     - Authentication with APIs\n",
        "     - API error handling\n",
        "\n",
        "### 0.11. Advanced Topics (Optional)\n",
        "   - **Objective**: Delve into more advanced concepts in Python programming.\n",
        "   - **Topics**:\n",
        "     - Generators and Iterators\n",
        "     - Decorators\n",
        "     - Context Managers\n",
        "     - Multithreading and Multiprocessing\n",
        "     - Asynchronous programming (using `asyncio`)\n",
        "\n",
        "### 0.12. Projects\n",
        "   - **Objective**: Apply what you've learned by working on small projects.\n",
        "   - **Suggestions**:\n",
        "     - **Simple calculator**: A basic calculator using functions and OOP.\n",
        "     - **To-Do list**: Implement a command-line or GUI-based to-do list app.\n",
        "     - **Weather app**: Build an app that fetches weather data from an API.\n",
        "     - **Web scraper**: Create a simple script that scrapes data from a website.\n",
        "     - **Personal website**: Build a simple portfolio website using Flask or Django.\n",
        "\n",
        "### 0.13. Further Resources\n",
        "   - **Books**:\n",
        "     - \"Automate the Boring Stuff with Python\" by Al Sweigart\n",
        "     - \"Python Crash Course\" by Eric Matthes\n",
        "   - **Websites**:\n",
        "     - [Python.org Documentation](https://docs.python.org/3/)\n",
        "     - [Real Python](https://realpython.com/)\n",
        "     - [LeetCode](https://leetcode.com/) (For practice)\n",
        "   - **Videos**:\n",
        "     - Youtube: [Corey Schafer's YouTube Channel](https://www.youtube.com/c/Coreyms)\n",
        "     - Bilibili: [ByteDance channel](https://www.bilibili.com/video/BV1rpWjevEip/?spm_id_from=333.337.search-card.all.click)\n",
        "   - **Github Projects**\n",
        "     - [Python Tutorials](https://github.com/walter201230/Python)\n",
        "     - [Project-based-learning](https://github.com/practical-tutorials/project-based-learning?tab=readme-ov-file#python)\n",
        "     - [Python-100-Days](https://github.com/jackfrued/Python-100-Days)\n",
        "\n",
        "### 0.14. Practice\n",
        "   - **Objective**: Practice coding regularly to enhance problem-solving skills.\n",
        "   - **Suggestions**:\n",
        "     - Participate in coding challenges on websites like HackerRank, CodeWars, or LeetCode.\n",
        "     - Try to contribute to open-source projects.\n",
        "     - Review code from other programmers and try to understand their solutions."
      ],
      "metadata": {
        "id": "plfZqIyxMSNy"
      }
    },
    {
      "cell_type": "markdown",
      "source": [
        "## 1 Introduction to Python\n",
        "Firstly, I will introduce the following part of Python: Assignment Statement, Variable and Data type, Control Flow Statement, Function,\n"
      ],
      "metadata": {
        "id": "MjR_HMVfyU6T"
      }
    },
    {
      "cell_type": "markdown",
      "source": [
        "### 1.1. Assignmnet Statement\n",
        "\n",
        "In Computer Science, equal sign is soul! The left and right part of the equal sign is called variable and value just like this `varible = value`. Variables are used to store data values. For example The statement `a = 1` and ` = true` represents `a,1`and `b,true` are varibles and values, respectively. The variable could be named by letter , number 0-9, special sign @#$%^&* *ect* and their abtrary combiations. But They follow certain rules and conventions that ensure they are named and accessed correctly. Below are the key rules for defining and using variables in Python.\n",
        "\n",
        "- **Start with a letter or an underscore**:  <br/>\n",
        "  A variable name must begin with a letter (a-z, A-Z) or an underscore (`_`).\n",
        "  - Valid: `my_variable`, `_variable`\n",
        "  - Invalid: `1variable` (<u>cannot start with a number</u>)\n",
        "\n",
        "- **Followed by letters, numbers, or underscores**: <br/>\n",
        "  After the first letter, the variable name can include numbers (0-9), letters (a-z, A-Z), and underscores (`_`).\n",
        "  - Valid: `my_variable2`, `variable_123`\n",
        "  - Invalid: `my-variable` (hyphens are not allowed)\n",
        "\n",
        "- **Case-sensitive**: <br/>\n",
        "  Python is case-sensitive, meaning that `Variable`, `variable`, and `VARIABLE` are considered different variables.\n",
        "  - `myVariable` and `myvariable` are two distinct variables.\n",
        "\n",
        "- **No reserved keywords**: <br/>\n",
        "  A variable name cannot be a Python reserved keyword, such as `if`, `for`, `else`, `True`, `None`, `class`, `import`, etc.\n",
        "  - Invalid: `if`, `else`, `while`, `try`, etc."
      ],
      "metadata": {
        "id": "Uq32gmZoNZII"
      }
    },
    {
      "cell_type": "markdown",
      "source": [
        "In Python, variables are dynamically typed, meaning you do not need to declare their type explicitly. You can directly assign a value to a variable using the assignment operator `=`."
      ],
      "metadata": {
        "id": "athbneY7Nmwc"
      }
    },
    {
      "cell_type": "code",
      "source": [
        "x = 10         # integer\n",
        "name = \"John\"  # string\n",
        "is_active = True # boolean\n",
        "\n",
        "print(f\"x={x}\")\n",
        "print(f\"Type of x is {type(x)}\")\n",
        "\n",
        "print(\"\\n------------------------------------------\\n\")\n",
        "\n",
        "print(f\"name={name}\")\n",
        "print(f\"Type of name is {type(name)}\")\n",
        "\n",
        "print(\"\\n------------------------------------------\\n\")\n",
        "\n",
        "print(f\"is_active={is_active}\")\n",
        "print(f\"Type of is_active is {type(is_active)}\")"
      ],
      "metadata": {
        "colab": {
          "base_uri": "https://localhost:8080/"
        },
        "id": "DytzFJy9zCUr",
        "outputId": "f3d533da-364c-499d-f3be-24b10b95a3ab"
      },
      "execution_count": null,
      "outputs": [
        {
          "output_type": "stream",
          "name": "stdout",
          "text": [
            "x=10\n",
            "Type of x is <class 'int'>\n",
            "\n",
            "------------------------------------------\n",
            "\n",
            "name=John\n",
            "Type of name is <class 'str'>\n",
            "\n",
            "------------------------------------------\n",
            "\n",
            "is_active=True\n",
            "Type of is_active is <class 'bool'>\n"
          ]
        }
      ]
    },
    {
      "cell_type": "markdown",
      "source": [
        "Otherwise, Python allows multiple variables to be assigned in a single line, separated by commas."
      ],
      "metadata": {
        "id": "74g1AG1Pzn0m"
      }
    },
    {
      "cell_type": "code",
      "source": [
        "x, y, z = 5, 3.14, \"Hello\" # multiple assignments, x is assigned 5, y is assigned 3.14 and z is assigned hello\n",
        "print(f\"x={x}, y={y}, z={z}\")"
      ],
      "metadata": {
        "colab": {
          "base_uri": "https://localhost:8080/"
        },
        "id": "p7GfEq-Rzkf5",
        "outputId": "31424602-ce22-4d9d-a640-23549e40afaa"
      },
      "execution_count": null,
      "outputs": [
        {
          "output_type": "stream",
          "name": "stdout",
          "text": [
            "x=5, y=3.14, z=Hello\n"
          ]
        }
      ]
    },
    {
      "cell_type": "markdown",
      "source": [
        "### 1.2 Variable and Data type\n",
        "Python is a weak language type in contrast to C,C++,Java. It means you do not define data type exactly when you want to creat a new data. But we still know the variable and data type in python, it will be benefit when you start learning `PyTorch` or `Tensorflow` library. In this part, I list some common variable and data type in the following context:\n"
      ],
      "metadata": {
        "id": "NSkfXFFFzrUF"
      }
    },
    {
      "cell_type": "markdown",
      "source": [
        "  - Numeric Types:\n",
        "    - **int**: Integer (whole numbers) <br/>\n",
        "      Example: `x = 5`\n",
        "    - **float**: Floating-point number (decimal numbers) <br/> Example: `y = 3.14`\n",
        "    - **complex**: Complex numbers <br/>\n",
        "      Example: `z = 1 + 2j`\n",
        "  - Sequence Types:\n",
        "    - **list**: Ordered, mutable collection <br/>\n",
        "      Example: `my_list = [1, 2, 3]`\n",
        "    - **tuple**: Ordered, immutable collection <br/>\n",
        "      Example: `my_tuple = (1, 2, 3)`\n",
        "    - **range**: Immutable sequence of numbers, used for loops<br/>\n",
        "      Example: `my_range = range(5)`\n",
        "  - Text Type:\n",
        "    - **string**: String (a sequence of characters) <br/>\n",
        "      Example: `name = \"John\"`\n",
        "  - Mapping Type:\n",
        "    - **dict**: Dictionary (unordered collection of key-value pairs) <br/>\n",
        "      Example: `my_dict = {'name': 'John', 'age': 30}`\n",
        "  - Set Types:\n",
        "    - **set**: Unordered collection of unique elements <br/>\n",
        "      Example: `my_set = {1, 2, 3}`\n",
        "    - **frozenset**: Immutable set <br/>\n",
        "      Example: `my_frozenset = frozenset([1, 2, 3])`\n",
        "  - Boolean Type:\n",
        "      - **bool**: Boolean value, either True or False <br/>\n",
        "      Example: `is_valid = True`\n",
        "  - Binary Types:\n",
        "      - **bytes**: Immutable sequence of bytes <br/>\n",
        "      Example: `b = b\"hello\" (01101000 01100101 01101100 01101100 01101111)`\n",
        "      - **bytearray**: Mutable sequence of bytes <br/>\n",
        "      Example: `ba = bytearray([65, 66, 67])`\n",
        "      - **memoryview**: View of memory in byte format <br/>\n",
        "      Example: `m = memoryview(b\"hello\")`\n",
        "\n",
        "You should konw your data type of variable in your code in any place to avoid type error.\n",
        "\n",
        "Meanwhile, Python is dynamically typed, meaning the type of a variable can change during runtime. You can reassign a variable to a different type at any time."
      ],
      "metadata": {
        "id": "maefOJ47Lw93"
      }
    },
    {
      "cell_type": "markdown",
      "source": [
        "Here, I define some common type used in Python"
      ],
      "metadata": {
        "id": "qp-ESEh50fqg"
      }
    },
    {
      "cell_type": "code",
      "source": [
        "a = 10       # a is an integer\n",
        "print(f\"a={a}\")\n",
        "print(f\"The type of a is {type(a)}\")\n",
        "\n",
        "b = \"Hello\"  # b is a string\n",
        "print(f\"b={b}\")\n",
        "print(f\"The type of b is {type(b)}\")\n",
        "\n",
        "c = True # c is a boolean, you should be careful about the first letter of boolean value must be uppercase\n",
        "print(f\"c={c}\")\n",
        "print(f\"The type of c is {type(c)}\")"
      ],
      "metadata": {
        "colab": {
          "base_uri": "https://localhost:8080/"
        },
        "id": "jtEIR0urzqzI",
        "outputId": "dbad0364-8092-425b-b764-2b18c44cd2a5"
      },
      "execution_count": null,
      "outputs": [
        {
          "output_type": "stream",
          "name": "stdout",
          "text": [
            "a=10\n",
            "The type of a is <class 'int'>\n",
            "b=Hello\n",
            "The type of b is <class 'str'>\n",
            "c=True\n",
            "The type of c is <class 'bool'>\n"
          ]
        }
      ]
    },
    {
      "cell_type": "markdown",
      "source": [
        "List can include different data type and mutable value."
      ],
      "metadata": {
        "id": "_QlOFJI215av"
      }
    },
    {
      "cell_type": "code",
      "source": [
        "d = [1,2,3]\n",
        "print(f\"d={d}\")\n",
        "print(f\"The type of d is {type(d)}\")\n",
        "\n",
        "\n",
        "e = [1, \"Hello\", True]\n",
        "print(f\"e={e}\")\n",
        "print(f\"The type of e is {type(e)}\")\n",
        "\n",
        "f = [2, 2]\n",
        "print(f\"f={f}\")\n",
        "print(f\"The type of f is {type(f)}\")\n",
        "f[0] = 1\n",
        "print(f\"After change, f={f}\")\n",
        "print(f\"Afther change, the type of f is {type(f)}\")"
      ],
      "metadata": {
        "colab": {
          "base_uri": "https://localhost:8080/"
        },
        "id": "LUiQWKr-0UxD",
        "outputId": "8a33d814-28b4-467b-ce34-edae5e1078c2"
      },
      "execution_count": null,
      "outputs": [
        {
          "output_type": "stream",
          "name": "stdout",
          "text": [
            "d=[1, 2, 3]\n",
            "The type of d is <class 'list'>\n",
            "e=[1, 'Hello', True]\n",
            "The type of e is <class 'list'>\n",
            "f=[2, 2]\n",
            "The type of f is <class 'list'>\n",
            "After change, f=[1, 2]\n",
            "Afther change, the type of f is <class 'list'>\n"
          ]
        }
      ]
    },
    {
      "cell_type": "markdown",
      "source": [
        "For tuple, you must be keep in attention that the element of tuple is immutable"
      ],
      "metadata": {
        "id": "Bcx--Go62PmG"
      }
    },
    {
      "cell_type": "code",
      "source": [
        "g = (1, 2, 3)\n",
        "print(f\"g={g}\")\n",
        "print(f\"The type of g is {type(g)}\")\n",
        "\n",
        "h = (1, \"Hello\", True)\n",
        "print(f\"h={h}\")\n",
        "print(f\"The type of h is {type(h)}\")\n",
        "\n",
        "i = (2, 2)\n",
        "print(f\"i={i}\")\n",
        "print(f\"The type of i is {type(i)}\")\n",
        "# i[0] = 1\n",
        "# print(f\"After change, i={i}\")\n",
        "# print(f\"Afther change, the type of i is {type(i)}\")"
      ],
      "metadata": {
        "colab": {
          "base_uri": "https://localhost:8080/"
        },
        "id": "FBYmS3sv2O8M",
        "outputId": "04c954a1-9222-4ad9-adfa-a8a2d2b0f67c"
      },
      "execution_count": null,
      "outputs": [
        {
          "output_type": "stream",
          "name": "stdout",
          "text": [
            "g=(1, 2, 3)\n",
            "The type of g is <class 'tuple'>\n",
            "h=(1, 'Hello', True)\n",
            "The type of h is <class 'tuple'>\n",
            "i=(2, 2)\n",
            "The type of i is <class 'tuple'>\n"
          ]
        }
      ]
    },
    {
      "cell_type": "markdown",
      "source": [
        "For dictionnary, it is the most powerful data type in contrast to other language. Each item in dictionary is presented as `key=value`."
      ],
      "metadata": {
        "id": "uEPFmO0f3qAw"
      }
    },
    {
      "cell_type": "code",
      "source": [
        "person = {\n",
        "    \"name\" : \"MMeowhite\",\n",
        "    \"age\" : 24,\n",
        "    \"animals\": [\"cat\", \"dog\", \"dragon\"],\n",
        "    \"location\": {\n",
        "        \"site\": \"West China Campus of Sichuan university\",\n",
        "        \"email\": \"miaopeng@stu.scu.edu.cn\",\n",
        "        \"code\": 610065\n",
        "    }\n",
        "}\n",
        "\n",
        "print(f\"person={person}\")\n",
        "print(f\"The type of person is {type(person)}\")"
      ],
      "metadata": {
        "colab": {
          "base_uri": "https://localhost:8080/"
        },
        "id": "PyDgpIry3pnx",
        "outputId": "a18ae6e8-ed07-4eb4-d922-02a92567f06b"
      },
      "execution_count": null,
      "outputs": [
        {
          "output_type": "stream",
          "name": "stdout",
          "text": [
            "person={'name': 'MMeowhite', 'age': 24, 'animals': ['cat', 'dog', 'dragon'], 'location': {'site': 'West China Campus of Sichuan university', 'email': 'miaopeng@stu.scu.edu.cn', 'code': 610065}}\n",
            "The type of person is <class 'dict'>\n"
          ]
        }
      ]
    },
    {
      "cell_type": "markdown",
      "source": [
        "And you can use these methods to return value:\n",
        "- Access values directly through the dictionary keys (e.g., object[\"key\"]).\n",
        "- Use the get() method to safely retrieve values and avoid a KeyError.\n",
        "- Use values() to get all values, or iterate through key-value pairs using items()."
      ],
      "metadata": {
        "id": "lS7LVvd46l18"
      }
    },
    {
      "cell_type": "code",
      "source": [
        "# Access values directly through the dictionary keys\n",
        "name = person[\"name\"]\n",
        "print(f\"The name of the person: {name}\")\n",
        "# age = person[\"aeg\"]\n",
        "# print(f\"the name of the person: {person[\"name\"]}\") # error: f-string: unmatched '['\n",
        "\n",
        "print(\"\\n------------------------------------\\n\")\n",
        "\n",
        "# Use the get() method to safely retrieve values and avoid a KeyError\n",
        "animals = person.get(\"animals\")\n",
        "print(f\"The animals of the person: {animals}\")\n",
        "animal = person.get(\"animal\")\n",
        "print(f\"The animal of the person: {animal}\") # if the value is not exists, it return None to avoid KeyError\n",
        "animal = person.get(\"animal\", \"Unknown\")\n",
        "print(f\"The animal of the person: {animal}\") # Meanwhile, you can declare a default value when the value is not exists\n",
        "\n",
        "print(\"\\n------------------------------------\\n\")\n",
        "\n",
        "# Use the values() method to retrieve all value stored in dictionary\n",
        "values = person.values()\n",
        "print(f\"The values of the person: {values}\")\n",
        "\n",
        "print(\"\\n------------------------------------\\n\")\n",
        "\n",
        "# Use the item() method to retrieve all keys and values\n",
        "for key, value in person.items():\n",
        "    print(f\"Key: {key}, Value: {value}\")"
      ],
      "metadata": {
        "colab": {
          "base_uri": "https://localhost:8080/"
        },
        "id": "anP9X_U_6q5j",
        "outputId": "bdde6d24-1cf2-455a-944d-cf4a4a62be27"
      },
      "execution_count": null,
      "outputs": [
        {
          "output_type": "stream",
          "name": "stdout",
          "text": [
            "The name of the person: MMeowhite\n",
            "\n",
            "------------------------------------\n",
            "\n",
            "The animals of the person: ['cat', 'dog', 'dragon']\n",
            "The animal of the person: None\n",
            "The animal of the person: Unknown\n",
            "\n",
            "------------------------------------\n",
            "\n",
            "The values of the person: dict_values(['MMeowhite', 24, ['cat', 'dog', 'dragon'], {'site': 'West China Campus of Sichuan university', 'email': 'miaopeng@stu.scu.edu.cn', 'code': 610065}])\n",
            "\n",
            "------------------------------------\n",
            "\n",
            "Key: name, Value: MMeowhite\n",
            "Key: age, Value: 24\n",
            "Key: animals, Value: ['cat', 'dog', 'dragon']\n",
            "Key: location, Value: {'site': 'West China Campus of Sichuan university', 'email': 'miaopeng@stu.scu.edu.cn', 'code': 610065}\n"
          ]
        }
      ]
    },
    {
      "cell_type": "markdown",
      "source": [
        "\n",
        "### 1.3 Control Flow Statement\n",
        "Control flow statements are used to decide the execution path of a program, including conditional statements, loops, and branching structures. Python provides several control flow statements to implement different program logic.\n"
      ],
      "metadata": {
        "id": "u6WhmxodzGu4"
      }
    },
    {
      "cell_type": "markdown",
      "source": [
        "#### 1.3.1. If-Else Statement\n",
        "The `if` statement is used to execute code based on a condition."
      ],
      "metadata": {
        "id": "3tkSvxGQF8Lb"
      }
    },
    {
      "cell_type": "code",
      "source": [
        "age = 18\n",
        "\n",
        "if age >= 18:\n",
        "    print(\"You are an adult.\")\n",
        "else:\n",
        "    print(\"You are a minor.\")"
      ],
      "metadata": {
        "colab": {
          "base_uri": "https://localhost:8080/"
        },
        "id": "xiGK8vP4F08o",
        "outputId": "888ca5bd-f151-4dc0-ef02-6358b8c98340"
      },
      "execution_count": null,
      "outputs": [
        {
          "output_type": "stream",
          "name": "stdout",
          "text": [
            "You are an adult.\n"
          ]
        }
      ]
    },
    {
      "cell_type": "markdown",
      "source": [
        "#### 1.3.2. If-Elif-Else Statement\n",
        "The `elif` (else if) statement checks multiple conditions in sequence."
      ],
      "metadata": {
        "id": "QjV8JGVzGBLd"
      }
    },
    {
      "cell_type": "code",
      "source": [
        "# Example of if-elif-else statement\n",
        "age = 20\n",
        "\n",
        "if age < 13:\n",
        "    print(\"You are a child.\")\n",
        "elif age < 18:\n",
        "    print(\"You are a teenager.\")\n",
        "else:\n",
        "    print(\"You are an adult.\")"
      ],
      "metadata": {
        "colab": {
          "base_uri": "https://localhost:8080/"
        },
        "id": "bovSDxrcGC4P",
        "outputId": "2c171906-fa19-4157-f3ad-0879336bcbd3"
      },
      "execution_count": null,
      "outputs": [
        {
          "output_type": "stream",
          "name": "stdout",
          "text": [
            "You are an adult.\n"
          ]
        }
      ]
    },
    {
      "cell_type": "markdown",
      "source": [
        "#### 1.3.3. For loop\n",
        "The `for` loop iterates over a sequence (like a list, tuple, or range)."
      ],
      "metadata": {
        "id": "dpp1_x7ZGXLT"
      }
    },
    {
      "cell_type": "code",
      "source": [
        "# Example of a for loop\n",
        "for i in range(5):  # Iterates from 0 to 4\n",
        "    print(i)"
      ],
      "metadata": {
        "colab": {
          "base_uri": "https://localhost:8080/"
        },
        "id": "NHNo1jg8Gilt",
        "outputId": "fd95571c-6745-4c35-b0fd-a8d148f17b49"
      },
      "execution_count": null,
      "outputs": [
        {
          "output_type": "stream",
          "name": "stdout",
          "text": [
            "0\n",
            "1\n",
            "2\n",
            "3\n",
            "4\n"
          ]
        }
      ]
    },
    {
      "cell_type": "markdown",
      "source": [
        "#### 1.3.4. While Loop\n",
        "The `while` loop repeatedly executes a block of code as long as a condition is `True`."
      ],
      "metadata": {
        "id": "9cUU42eVGjYI"
      }
    },
    {
      "cell_type": "code",
      "source": [
        "# Example of while loop\n",
        "count = 0\n",
        "\n",
        "while count < 5:\n",
        "    print(count)\n",
        "    count += 1  # Increment to avoid infinite loop"
      ],
      "metadata": {
        "colab": {
          "base_uri": "https://localhost:8080/"
        },
        "id": "Ex3FJKneGrOw",
        "outputId": "6ee61faa-b83d-44a6-fd6f-f5dab0472844"
      },
      "execution_count": null,
      "outputs": [
        {
          "output_type": "stream",
          "name": "stdout",
          "text": [
            "0\n",
            "1\n",
            "2\n",
            "3\n",
            "4\n"
          ]
        }
      ]
    },
    {
      "cell_type": "markdown",
      "source": [
        "#### 1.3.5. Break Statement\n",
        "The `break` statement is used to exit a loop prematurely when a condition is met."
      ],
      "metadata": {
        "id": "EnvFzukmGwqv"
      }
    },
    {
      "cell_type": "code",
      "source": [
        "# Example of break statement\n",
        "for i in range(10):\n",
        "    if i == 5:\n",
        "        break  # Exit the loop when i equals 5\n",
        "    print(i)"
      ],
      "metadata": {
        "colab": {
          "base_uri": "https://localhost:8080/"
        },
        "id": "XKL6euizGxpF",
        "outputId": "f97f8f61-d1cf-440c-fba4-31d58dcb39c6"
      },
      "execution_count": null,
      "outputs": [
        {
          "output_type": "stream",
          "name": "stdout",
          "text": [
            "0\n",
            "1\n",
            "2\n",
            "3\n",
            "4\n"
          ]
        }
      ]
    },
    {
      "cell_type": "markdown",
      "source": [
        "#### 1.3.6. Continue Statement\n",
        "The `continue` statement skips the current iteration of a loop and proceeds to the next iteration."
      ],
      "metadata": {
        "id": "SbXylh5yG-hT"
      }
    },
    {
      "cell_type": "code",
      "source": [
        "# Example of continue statement\n",
        "for i in range(5):\n",
        "    if i == 3:\n",
        "        continue  # Skip the iteration when i equals 3\n",
        "    print(i)"
      ],
      "metadata": {
        "colab": {
          "base_uri": "https://localhost:8080/"
        },
        "id": "U6lHi8ckHGkI",
        "outputId": "e997a0ee-e3e2-4200-c029-286c3a8eec55"
      },
      "execution_count": null,
      "outputs": [
        {
          "output_type": "stream",
          "name": "stdout",
          "text": [
            "0\n",
            "1\n",
            "2\n",
            "4\n"
          ]
        }
      ]
    },
    {
      "cell_type": "markdown",
      "source": [
        "#### 1.3.7. Pass Statement\n",
        "The pass statement is a placeholder that does nothing. It’s often used when a statement is required syntactically but no action is needed."
      ],
      "metadata": {
        "id": "ZYA3FyHGHI4j"
      }
    },
    {
      "cell_type": "code",
      "source": [
        "# Example of pass statement\n",
        "for i in range(5):\n",
        "    if i == 3:\n",
        "        pass  # Do nothing when i equals 3\n",
        "    print(i)"
      ],
      "metadata": {
        "colab": {
          "base_uri": "https://localhost:8080/"
        },
        "id": "9b6cNtXKHJm-",
        "outputId": "4ca30a6f-022e-4c6a-d078-474a16481e65"
      },
      "execution_count": null,
      "outputs": [
        {
          "output_type": "stream",
          "name": "stdout",
          "text": [
            "0\n",
            "1\n",
            "2\n",
            "3\n",
            "4\n"
          ]
        }
      ]
    },
    {
      "cell_type": "markdown",
      "source": [
        "#### 1.3.8. Complex Statement\n",
        "We can combine these condition keywords to implement complex statement."
      ],
      "metadata": {
        "id": "tqH6c5jUHSbx"
      }
    },
    {
      "cell_type": "code",
      "source": [
        "# Full Example\n",
        "age = 25\n",
        "for i in range(3):\n",
        "    if age < 18:\n",
        "        print(\"You are a minor.\")\n",
        "        break\n",
        "    elif age == 25:\n",
        "        print(f\"You are {age} years old, an adult.\")\n",
        "        continue\n",
        "    else:\n",
        "        print(\"You are older than 18.\")\n",
        "    pass"
      ],
      "metadata": {
        "colab": {
          "base_uri": "https://localhost:8080/"
        },
        "id": "-cYWQJUHHRra",
        "outputId": "7be8f10b-75a9-4557-c1c3-2182043a2e41"
      },
      "execution_count": null,
      "outputs": [
        {
          "output_type": "stream",
          "name": "stdout",
          "text": [
            "You are 25 years old, an adult.\n",
            "You are 25 years old, an adult.\n",
            "You are 25 years old, an adult.\n"
          ]
        }
      ]
    },
    {
      "cell_type": "markdown",
      "source": [
        "#### 1.3.9. Summary\n",
        "\n",
        "- `if`, `elif`, `else`: Used for decision-making.\n",
        "- `for` loop: Used for iterating over sequences.\n",
        "- `while` loop: Used for looping as long as a condition is True.\n",
        "- `break`: Exits the loop.\n",
        "- `continue`: Skips to the next iteration of the loop.\n",
        "- `pass`: Does nothing, used as a placeholder."
      ],
      "metadata": {
        "id": "rQ5BCkFUHaq-"
      }
    },
    {
      "cell_type": "markdown",
      "source": [
        "### 1.4 Function\n",
        "This guide will walk you through the basics of writing and using functions in Python. Functions allow you to group code into reusable blocks, making your program more modular and easier to maintain.\n"
      ],
      "metadata": {
        "id": "zezIIVW0FzWr"
      }
    },
    {
      "cell_type": "markdown",
      "source": [
        "\n",
        "#### 1.4.1. What is function in python?\n",
        "\n",
        "A **function** in Python is a block of code that only runs when it is called. You can pass data (known as **parameters**) into a function, and it can return data as well.\n",
        "How can we define a function in python? In Python, you define a function using the `def` keyword, followed by the function name, parentheses, and a colon. The body of the function starts on the next line, indented.\n",
        "\n",
        "```python\n",
        "# python function syntax\n",
        "def function_name(parameters):\n",
        "    # Function body\n",
        "    # Code to execute\n",
        "    return result  # Optional return value\n",
        "```   "
      ],
      "metadata": {
        "id": "_fTsuKRrIp24"
      }
    },
    {
      "cell_type": "code",
      "source": [
        "def greet():\n",
        "    print(\"Hello, welcome to Python functions!\") # In this example, the function greet will print a welcome message when called."
      ],
      "metadata": {
        "id": "dza6rIq8IjO3"
      },
      "execution_count": null,
      "outputs": []
    },
    {
      "cell_type": "markdown",
      "source": [
        "#### 1.4.2. How to calling a function?\n",
        "\n",
        "Once a function is defined, you can call it by using its name followed by parentheses."
      ],
      "metadata": {
        "id": "yGgjaxJ1IsmV"
      }
    },
    {
      "cell_type": "code",
      "source": [
        "greet() # Calling the function to print the message"
      ],
      "metadata": {
        "colab": {
          "base_uri": "https://localhost:8080/"
        },
        "id": "LKjO0dsuIzY9",
        "outputId": "d86e6e7b-b6f5-4a29-95d4-908e6d3284e7"
      },
      "execution_count": null,
      "outputs": [
        {
          "output_type": "stream",
          "name": "stdout",
          "text": [
            "Hello, welcome to Python functions!\n"
          ]
        }
      ]
    },
    {
      "cell_type": "markdown",
      "source": [
        "\n",
        "#### 1.4.3. How can we define and use a python function with parameters?\n",
        "\n",
        "A function can accept parameters (inputs) that allow you to pass data into the function for processing. Parameters are placed inside the parentheses.\n",
        "```python\n",
        "def function_name(parameter1, parameter2):\n",
        "    # Code to execute\n",
        "    # value to return\n",
        "    return value\n",
        "```"
      ],
      "metadata": {
        "id": "SNI1o8eGJACn"
      }
    },
    {
      "cell_type": "markdown",
      "source": [
        "For example, I define a function `sum()` to return the sum of two parameter `a` and `b`"
      ],
      "metadata": {
        "id": "z0dXuos1JK-X"
      }
    },
    {
      "cell_type": "code",
      "source": [
        "def sum(a, b):\n",
        "    result = a + b\n",
        "    return result\n",
        "a = 1\n",
        "b = 2\n",
        "c = sum(a, b)\n",
        "print(f\"The sum of the a and b is {c}\") # the output will be sum of a and b"
      ],
      "metadata": {
        "colab": {
          "base_uri": "https://localhost:8080/"
        },
        "id": "cJm8RAZEJHwF",
        "outputId": "75837980-26ff-4c9b-c323-3b8064342583"
      },
      "execution_count": null,
      "outputs": [
        {
          "output_type": "stream",
          "name": "stdout",
          "text": [
            "The sum of the a and b is 3\n"
          ]
        }
      ]
    },
    {
      "cell_type": "markdown",
      "source": [
        "\n",
        "Notes: if you haven't any code to execute and any value to return, you should use built-in keywords pass to avoid compile syntax error."
      ],
      "metadata": {
        "id": "naQKDmADJayt"
      }
    },
    {
      "cell_type": "code",
      "source": [
        "def null_function(a, b):\n",
        "    pass\n",
        "\n",
        "null_function(a, b)"
      ],
      "metadata": {
        "id": "KwDmXnyMJc5V"
      },
      "execution_count": null,
      "outputs": []
    },
    {
      "cell_type": "markdown",
      "source": [
        "#### 1.4.4. How can we define a python function with default parameters?\n",
        "\n",
        "You can assign default values to parameters. If the caller does not provide a value for that parameter, the default value is used."
      ],
      "metadata": {
        "id": "J0-eWdSqJ2cE"
      }
    },
    {
      "cell_type": "code",
      "source": [
        "# define a function to print input name\n",
        "# if we do not input name into the function, it will return the defautl name: Guest.\n",
        "def greet(name=\"Guest\"):\n",
        "    print(f\"Hello, {name}!\")\n",
        "\n",
        "greet(\"Alice\")  # Output: Hello, Alice!\n",
        "greet()         # Output: Hello, Guest!"
      ],
      "metadata": {
        "colab": {
          "base_uri": "https://localhost:8080/"
        },
        "id": "2NZyrLgRJ9RM",
        "outputId": "696742f4-2c18-479e-83dd-3aaa64717a65"
      },
      "execution_count": null,
      "outputs": [
        {
          "output_type": "stream",
          "name": "stdout",
          "text": [
            "Hello, Alice!\n",
            "Hello, Guest!\n"
          ]
        }
      ]
    },
    {
      "cell_type": "markdown",
      "source": [
        "#### 1.4.5. The local variables and global variables\n",
        "When you write your own code, you also should be careful about the variable scope. The varibale scope could be divided into two types: **Local Variables** and **Global Variables**.\n",
        "- **Local Variables**: Variables declared inside a function are local to that function and cannot be accessed outside of it.\n",
        "- **Global Variables**: Variables declared outside of a function are global and can be accessed from anywhere in the code.\n"
      ],
      "metadata": {
        "id": "SC1QbtCvKcBD"
      }
    },
    {
      "cell_type": "code",
      "source": [
        "x = 10  # Global variable\n",
        "\n",
        "def my_function():\n",
        "    y = 5  # Local variable\n",
        "    print(x + y)\n",
        "\n",
        "my_function()  # Output: 15\n",
        "print(x) # This will be output 10 correctly because x is local to the entire code\n",
        "# print(y)  # This will raise an error because y is local to the function"
      ],
      "metadata": {
        "colab": {
          "base_uri": "https://localhost:8080/"
        },
        "id": "vrMdCPWxKlEp",
        "outputId": "45f4bc37-60da-44a3-a2b3-c81771a52a92"
      },
      "execution_count": null,
      "outputs": [
        {
          "output_type": "stream",
          "name": "stdout",
          "text": [
            "15\n",
            "10\n"
          ]
        }
      ]
    },
    {
      "cell_type": "markdown",
      "source": [
        "#### 1.4.6. Advance: lambda expression (Optional)\n",
        "\n",
        "Python also allows you to define **anonymous functions** using the **lambda** keyword. These functions are typically used for short-term, one-line operations.\n",
        "```python\n",
        "lambda parameters: expression\n",
        "```"
      ],
      "metadata": {
        "id": "NYZF06gIKyt0"
      }
    },
    {
      "cell_type": "markdown",
      "source": [
        "For example, if we want to return the square of any number, we can use lambda expression."
      ],
      "metadata": {
        "id": "L3_rIOwsLC4W"
      }
    },
    {
      "cell_type": "code",
      "source": [
        "square = lambda x: x ** 2\n",
        "print(square(4))  # Output: 16"
      ],
      "metadata": {
        "colab": {
          "base_uri": "https://localhost:8080/"
        },
        "id": "JXp1zIKLLBIJ",
        "outputId": "b4d9ed95-5574-47b2-f510-d946beef3f9c"
      },
      "execution_count": null,
      "outputs": [
        {
          "output_type": "stream",
          "name": "stdout",
          "text": [
            "16\n"
          ]
        }
      ]
    },
    {
      "cell_type": "markdown",
      "source": [
        "#### 1.4.7. Summary\n",
        "In summary, functions are a fundamental part of Python programming. They allow you to:\n",
        "- Group code into reusable blocks\n",
        "- Accept inputs via parameters\n",
        "- Return values with the return keyword\n",
        "- Use default values and handle variable scope"
      ],
      "metadata": {
        "id": "S1GkQckLLOiX"
      }
    },
    {
      "cell_type": "markdown",
      "source": [
        "### 1.5 Recommandation\n",
        "\n",
        "In the last, I recommand you to read this documents Thoroughly [ **Python Numpy Tutorial(with Jupyter and Colab): https://cs231n.github.io/python-numpy-tutorial/**  ] completed by *CS231n* course teacher group in *Compuer Science Deparment of Standford University*. In this Python guideline, <u>it introduces python basis and most popular third-party library except Pandas</u>. You can click it to jump into any part in this tutorials if you have unfamilar section quickly.\n",
        "- [Jupyter and Colab Notebooks](https://cs231n.github.io/python-numpy-tutorial/#jupyter-and-colab-notebooks)\n",
        "- [Python](https://cs231n.github.io/python-numpy-tutorial/#python)\n",
        "  - [Python versions](https://cs231n.github.io/python-numpy-tutorial/#python-versions)\n",
        "  - [Basic data types](https://cs231n.github.io/python-numpy-tutorial/#basic-data-types)\n",
        "  - [Containers](https://cs231n.github.io/python-numpy-tutorial/#containers)\n",
        "    - [Lists](https://cs231n.github.io/python-numpy-tutorial/#lists)\n",
        "    - [Dictionaries](https://cs231n.github.io/python-numpy-tutorial/#dictionaries)\n",
        "    - [Sets](https://cs231n.github.io/python-numpy-tutorial/#sets)\n",
        "    - [Tuples](https://cs231n.github.io/python-numpy-tutorial/#tuples)\n",
        "  - [Functions](https://cs231n.github.io/python-numpy-tutorial/#functions)\n",
        "  - [Classes](https://cs231n.github.io/python-numpy-tutorial/#classes)\n",
        "- [Numpy](https://cs231n.github.io/python-numpy-tutorial/#numpy)\n",
        "  - [Arrays](https://cs231n.github.io/python-numpy-tutorial/#arrays)\n",
        "  - [Array indexing](https://cs231n.github.io/python-numpy-tutorial/#array-indexing)\n",
        "  - [Datatypes](https://cs231n.github.io/python-numpy-tutorial/#datatypes)\n",
        "  - [Array math](https://cs231n.github.io/python-numpy-tutorial/#array-math)\n",
        "  - [Broadcasting](https://cs231n.github.io/python-numpy-tutorial/#broadcasting)\n",
        "  - [Numpy Documentation](https://cs231n.github.io/python-numpy-tutorial/#numpy-documentation)\n",
        "- [SciPy](https://cs231n.github.io/python-numpy-tutorial/#scipy)\n",
        "  - [Image operations](https://cs231n.github.io/python-numpy-tutorial/#image-operations)\n",
        "  - [MATLAB files](https://cs231n.github.io/python-numpy-tutorial/#matlab-files)\n",
        "  - [Distance between points](https://cs231n.github.io/python-numpy-tutorial/#distance-between-points)\n",
        "- [Matplotlib](https://cs231n.github.io/python-numpy-tutorial/#matplotlib)\n",
        "  - [Plotting](https://cs231n.github.io/python-numpy-tutorial/#plotting)\n",
        "  - [Subplots](https://cs231n.github.io/python-numpy-tutorial/#subplots)\n",
        "  - [Images](https://cs231n.github.io/python-numpy-tutorial/#images)"
      ],
      "metadata": {
        "id": "SLzCnMfMBdi7"
      }
    },
    {
      "cell_type": "markdown",
      "source": [
        "## 2.Introduction to the MNIST Dataset\n",
        "\n",
        "The MNIST (Modified National Institute of Standards and Technology) dataset is a popular dataset in machine learning and computer vision. It consists of **60,000 training images** and **10,000 testing images** of handwritten digits (0 through 9), each image being a **28x28 pixel grayscale image**.\n"
      ],
      "metadata": {
        "id": "x3G3QbfRu7X0"
      }
    },
    {
      "cell_type": "markdown",
      "source": [
        "### 2.1. Key Points about MNIST:\n",
        "\n",
        "- **Purpose**: The dataset is used to train and evaluate machine learning models for digit classification.\n",
        "- **Images**: Each image represents a single digit, written by a variety of people, with variations in style, thickness, and slant.\n",
        "- **Format**: The dataset is provided in two parts:\n",
        "  1. **Training set**: 60,000 labeled images used for training machine learning models.\n",
        "  2. **Test set**: 10,000 labeled images used to test the performance of the trained model."
      ],
      "metadata": {
        "id": "sZI4GeZkN4od"
      }
    },
    {
      "cell_type": "markdown",
      "source": [
        "### 2.2. MNIST Image Details:\n",
        "- **Size**: 28 pixels x 28 pixels (784 features per image)\n",
        "- **Type**: Grayscale (each pixel value ranges from 0 to 255, where 0 is black and 255 is white)\n",
        "- **Labels**: Each image is labeled with the digit (0-9) it represents."
      ],
      "metadata": {
        "id": "aeKkkuW1N79r"
      }
    },
    {
      "cell_type": "markdown",
      "source": [
        "### 2.3. Why MNIST is Important:\n",
        "- **Benchmarking**: MNIST has become a standard benchmark for evaluating machine learning algorithms, especially those in the field of image recognition.\n",
        "- **Easy to Use**: It is considered beginner-friendly, as the task (digit classification) is relatively simple and well-defined.\n",
        "- **Preprocessed**: The images are already preprocessed (normalized and centered), making it a good starting point for experimenting with machine learning models."
      ],
      "metadata": {
        "id": "3j0DHes7OAGh"
      }
    },
    {
      "cell_type": "markdown",
      "source": [
        "### 2.4. Example of MNIST Use Case:\n",
        "A simple neural network can be trained on the MNIST dataset to recognize handwritten digits. The model would take a 28x28 image as input and output a predicted label from 0-9."
      ],
      "metadata": {
        "id": "89mibMLCOHpz"
      }
    },
    {
      "cell_type": "markdown",
      "source": [
        "### 2.5. Loading MNIST in Python:\n",
        "In Python, you can easily load the MNIST dataset using popular libraries like **TensorFlow** or **Keras**."
      ],
      "metadata": {
        "id": "JXysrSR7ONun"
      }
    },
    {
      "cell_type": "markdown",
      "source": [
        "### 2.6. Example code to load MNIST in Keras library:\n"
      ],
      "metadata": {
        "id": "XGgBSFBzOTct"
      }
    },
    {
      "cell_type": "code",
      "source": [
        "from tensorflow.keras.datasets import mnist\n",
        "\n",
        "# Load the MNIST dataset\n",
        "(x_train, y_train), (x_test, y_test) = mnist.load_data()\n",
        "\n",
        "# x_train and x_test contain the image data\n",
        "# y_train and y_test contain the corresponding labels\n",
        "print(x_train.shape)  # (60000, 28, 28)\n",
        "print(y_train.shape)  # (60000,)\n",
        "\n",
        "# Visulize the MNIST dataset\n",
        "import matplotlib.pyplot as plt\n",
        "\n",
        "# Plot the first image in the training set\n",
        "plt.imshow(x_train[0], cmap='gray')\n",
        "plt.title(f\"Label: {y_train[0]}\")\n",
        "plt.show()"
      ],
      "metadata": {
        "colab": {
          "base_uri": "https://localhost:8080/",
          "height": 520
        },
        "id": "4NKzO957OaGf",
        "outputId": "3ed0eea7-eee2-4f53-eb85-e9f12bc19687"
      },
      "execution_count": null,
      "outputs": [
        {
          "output_type": "stream",
          "name": "stdout",
          "text": [
            "Downloading data from https://storage.googleapis.com/tensorflow/tf-keras-datasets/mnist.npz\n",
            "\u001b[1m11490434/11490434\u001b[0m \u001b[32m━━━━━━━━━━━━━━━━━━━━\u001b[0m\u001b[37m\u001b[0m \u001b[1m0s\u001b[0m 0us/step\n",
            "(60000, 28, 28)\n",
            "(60000,)\n"
          ]
        },
        {
          "output_type": "display_data",
          "data": {
            "text/plain": [
              "<Figure size 640x480 with 1 Axes>"
            ],
            "image/png": "[encoded data removed]"
          },
          "metadata": {}
        }
      ]
    },
    {
      "cell_type": "markdown",
      "source": [
        "### 2.7. Simple Example to Load MNIST daset by sklearn\n",
        "In todays lecture, I will introduce the simple and useful MNIST dataset and `matplotlib` and `sklearn` library\n"
      ],
      "metadata": {
        "id": "2YkrRbVzMeQ5"
      }
    },
    {
      "cell_type": "markdown",
      "source": [
        "`Matplotlib` is a popular plotting library in Python, and Pyplot is the module used for plotting, especially for 2D visualizations. It provides a MATLAB-like interface for making various types of plots, such as line plots, bar charts, histograms, scatter plots, and more.\n",
        "\n",
        "**Key Features of Matplotlib:**\n",
        "- Versatile Plotting: You can create a wide range of visualizations, including 2D and 3D plots.\n",
        "- Customization: You can easily customize the appearance of plots, such as colors, labels, titles, and gridlines.\n",
        "- Subplots: You can arrange multiple plots in a single figure using subplots.\n",
        "- Integration: It integrates well with other libraries such as NumPy and Pandas, making it easy to visualize data."
      ],
      "metadata": {
        "id": "_LY-k4e7Oxo6"
      }
    },
    {
      "cell_type": "code",
      "execution_count": null,
      "metadata": {
        "id": "88n5Cy5zMQyv"
      },
      "outputs": [],
      "source": [
        "import matplotlib.pyplot as plt # import matplotlib.pyplot library for visuliaztion"
      ]
    },
    {
      "cell_type": "markdown",
      "source": [
        "`sklearn` **(Scikit-learn)** is a popular library in Python for machine learning. It provides simple and efficient tools for data mining and data analysis, built on top of NumPy, SciPy, and matplotlib. It is widely used for implementing machine learning algorithms for classification, regression, clustering, and dimensionality reduction.\n",
        "\n",
        "**Key Features of sklearn:**\n",
        "- Algorithms: Includes a variety of machine learning algorithms for both supervised and unsupervised learning, such as:\n",
        "  - Classification (e.g., Logistic Regression, SVM, Decision Trees)\n",
        "  - Regression (e.g., Linear Regression, Ridge Regression)\n",
        "  - Clustering (e.g., K-means, DBSCAN)\n",
        "  - Dimensionality Reduction (e.g., PCA, UMAP)\n",
        "- Preprocessing: Offers tools for preprocessing data (e.g., normalization, encoding categorical features).\n",
        "- Model Selection: Provides tools for model selection and evaluation (e.g., cross-validation, hyperparameter tuning).\n",
        "- Integration: Easily integrates with other Python libraries like pandas for data manipulation and matplotlib for visualizations."
      ],
      "metadata": {
        "id": "8iM0URvhO7GY"
      }
    },
    {
      "cell_type": "code",
      "source": [
        "from sklearn.datasets import fetch_openml # import sklean.dataset for loa dataset from OpenML dataset"
      ],
      "metadata": {
        "id": "PoEZA-4dO6wA"
      },
      "execution_count": null,
      "outputs": []
    },
    {
      "cell_type": "markdown",
      "source": [
        "Firstly, we should load dataset from OpenML dataset by uitilizing `fetch_openml` function.\n",
        "\n",
        "Syntax: `fetch_openml(\"data_name\")`"
      ],
      "metadata": {
        "id": "G4v4BCXGP255"
      }
    },
    {
      "cell_type": "code",
      "source": [
        "# here, we load and print the mnist_784 dataset with version 1\n",
        "mnist = fetch_openml('mnist_784', version=1)\n",
        "print(\"mnist: \", mnist)"
      ],
      "metadata": {
        "colab": {
          "base_uri": "https://localhost:8080/"
        },
        "id": "22Pqp4qwP4qc",
        "outputId": "7f29f85e-b8d9-417b-9970-5372b6a6901a"
      },
      "execution_count": null,
      "outputs": [
        {
          "output_type": "stream",
          "name": "stdout",
          "text": [
            "mnist:  {'data':        pixel1  pixel2  pixel3  pixel4  pixel5  pixel6  pixel7  pixel8  pixel9  \\\n",
            "0           0       0       0       0       0       0       0       0       0   \n",
            "1           0       0       0       0       0       0       0       0       0   \n",
            "2           0       0       0       0       0       0       0       0       0   \n",
            "3           0       0       0       0       0       0       0       0       0   \n",
            "4           0       0       0       0       0       0       0       0       0   \n",
            "...       ...     ...     ...     ...     ...     ...     ...     ...     ...   \n",
            "69995       0       0       0       0       0       0       0       0       0   \n",
            "69996       0       0       0       0       0       0       0       0       0   \n",
            "69997       0       0       0       0       0       0       0       0       0   \n",
            "69998       0       0       0       0       0       0       0       0       0   \n",
            "69999       0       0       0       0       0       0       0       0       0   \n",
            "\n",
            "       pixel10  ...  pixel775  pixel776  pixel777  pixel778  pixel779  \\\n",
            "0            0  ...         0         0         0         0         0   \n",
            "1            0  ...         0         0         0         0         0   \n",
            "2            0  ...         0         0         0         0         0   \n",
            "3            0  ...         0         0         0         0         0   \n",
            "4            0  ...         0         0         0         0         0   \n",
            "...        ...  ...       ...       ...       ...       ...       ...   \n",
            "69995        0  ...         0         0         0         0         0   \n",
            "69996        0  ...         0         0         0         0         0   \n",
            "69997        0  ...         0         0         0         0         0   \n",
            "69998        0  ...         0         0         0         0         0   \n",
            "69999        0  ...         0         0         0         0         0   \n",
            "\n",
            "       pixel780  pixel781  pixel782  pixel783  pixel784  \n",
            "0             0         0         0         0         0  \n",
            "1             0         0         0         0         0  \n",
            "2             0         0         0         0         0  \n",
            "3             0         0         0         0         0  \n",
            "4             0         0         0         0         0  \n",
            "...         ...       ...       ...       ...       ...  \n",
            "69995         0         0         0         0         0  \n",
            "69996         0         0         0         0         0  \n",
            "69997         0         0         0         0         0  \n",
            "69998         0         0         0         0         0  \n",
            "69999         0         0         0         0         0  \n",
            "\n",
            "[70000 rows x 784 columns], 'target': 0        5\n",
            "1        0\n",
            "2        4\n",
            "3        1\n",
            "4        9\n",
            "        ..\n",
            "69995    2\n",
            "69996    3\n",
            "69997    4\n",
            "69998    5\n",
            "69999    6\n",
            "Name: class, Length: 70000, dtype: category\n",
            "Categories (10, object): ['0', '1', '2', '3', ..., '6', '7', '8', '9'], 'frame':        pixel1  pixel2  pixel3  pixel4  pixel5  pixel6  pixel7  pixel8  pixel9  \\\n",
            "0           0       0       0       0       0       0       0       0       0   \n",
            "1           0       0       0       0       0       0       0       0       0   \n",
            "2           0       0       0       0       0       0       0       0       0   \n",
            "3           0       0       0       0       0       0       0       0       0   \n",
            "4           0       0       0       0       0       0       0       0       0   \n",
            "...       ...     ...     ...     ...     ...     ...     ...     ...     ...   \n",
            "69995       0       0       0       0       0       0       0       0       0   \n",
            "69996       0       0       0       0       0       0       0       0       0   \n",
            "69997       0       0       0       0       0       0       0       0       0   \n",
            "69998       0       0       0       0       0       0       0       0       0   \n",
            "69999       0       0       0       0       0       0       0       0       0   \n",
            "\n",
            "       pixel10  ...  pixel776  pixel777  pixel778  pixel779  pixel780  \\\n",
            "0            0  ...         0         0         0         0         0   \n",
            "1            0  ...         0         0         0         0         0   \n",
            "2            0  ...         0         0         0         0         0   \n",
            "3            0  ...         0         0         0         0         0   \n",
            "4            0  ...         0         0         0         0         0   \n",
            "...        ...  ...       ...       ...       ...       ...       ...   \n",
            "69995        0  ...         0         0         0         0         0   \n",
            "69996        0  ...         0         0         0         0         0   \n",
            "69997        0  ...         0         0         0         0         0   \n",
            "69998        0  ...         0         0         0         0         0   \n",
            "69999        0  ...         0         0         0         0         0   \n",
            "\n",
            "       pixel781  pixel782  pixel783  pixel784  class  \n",
            "0             0         0         0         0      5  \n",
            "1             0         0         0         0      0  \n",
            "2             0         0         0         0      4  \n",
            "3             0         0         0         0      1  \n",
            "4             0         0         0         0      9  \n",
            "...         ...       ...       ...       ...    ...  \n",
            "69995         0         0         0         0      2  \n",
            "69996         0         0         0         0      3  \n",
            "69997         0         0         0         0      4  \n",
            "69998         0         0         0         0      5  \n",
            "69999         0         0         0         0      6  \n",
            "\n",
            "[70000 rows x 785 columns], 'categories': None, 'feature_names': ['pixel1', 'pixel2', 'pixel3', 'pixel4', 'pixel5', 'pixel6', 'pixel7', 'pixel8', 'pixel9', 'pixel10', 'pixel11', 'pixel12', 'pixel13', 'pixel14', 'pixel15', 'pixel16', 'pixel17', 'pixel18', 'pixel19', 'pixel20', 'pixel21', 'pixel22', 'pixel23', 'pixel24', 'pixel25', 'pixel26', 'pixel27', 'pixel28', 'pixel29', 'pixel30', 'pixel31', 'pixel32', 'pixel33', 'pixel34', 'pixel35', 'pixel36', 'pixel37', 'pixel38', 'pixel39', 'pixel40', 'pixel41', 'pixel42', 'pixel43', 'pixel44', 'pixel45', 'pixel46', 'pixel47', 'pixel48', 'pixel49', 'pixel50', 'pixel51', 'pixel52', 'pixel53', 'pixel54', 'pixel55', 'pixel56', 'pixel57', 'pixel58', 'pixel59', 'pixel60', 'pixel61', 'pixel62', 'pixel63', 'pixel64', 'pixel65', 'pixel66', 'pixel67', 'pixel68', 'pixel69', 'pixel70', 'pixel71', 'pixel72', 'pixel73', 'pixel74', 'pixel75', 'pixel76', 'pixel77', 'pixel78', 'pixel79', 'pixel80', 'pixel81', 'pixel82', 'pixel83', 'pixel84', 'pixel85', 'pixel86', 'pixel87', 'pixel88', 'pixel89', 'pixel90', 'pixel91', 'pixel92', 'pixel93', 'pixel94', 'pixel95', 'pixel96', 'pixel97', 'pixel98', 'pixel99', 'pixel100', 'pixel101', 'pixel102', 'pixel103', 'pixel104', 'pixel105', 'pixel106', 'pixel107', 'pixel108', 'pixel109', 'pixel110', 'pixel111', 'pixel112', 'pixel113', 'pixel114', 'pixel115', 'pixel116', 'pixel117', 'pixel118', 'pixel119', 'pixel120', 'pixel121', 'pixel122', 'pixel123', 'pixel124', 'pixel125', 'pixel126', 'pixel127', 'pixel128', 'pixel129', 'pixel130', 'pixel131', 'pixel132', 'pixel133', 'pixel134', 'pixel135', 'pixel136', 'pixel137', 'pixel138', 'pixel139', 'pixel140', 'pixel141', 'pixel142', 'pixel143', 'pixel144', 'pixel145', 'pixel146', 'pixel147', 'pixel148', 'pixel149', 'pixel150', 'pixel151', 'pixel152', 'pixel153', 'pixel154', 'pixel155', 'pixel156', 'pixel157', 'pixel158', 'pixel159', 'pixel160', 'pixel161', 'pixel162', 'pixel163', 'pixel164', 'pixel165', 'pixel166', 'pixel167', 'pixel168', 'pixel169', 'pixel170', 'pixel171', 'pixel172', 'pixel173', 'pixel174', 'pixel175', 'pixel176', 'pixel177', 'pixel178', 'pixel179', 'pixel180', 'pixel181', 'pixel182', 'pixel183', 'pixel184', 'pixel185', 'pixel186', 'pixel187', 'pixel188', 'pixel189', 'pixel190', 'pixel191', 'pixel192', 'pixel193', 'pixel194', 'pixel195', 'pixel196', 'pixel197', 'pixel198', 'pixel199', 'pixel200', 'pixel201', 'pixel202', 'pixel203', 'pixel204', 'pixel205', 'pixel206', 'pixel207', 'pixel208', 'pixel209', 'pixel210', 'pixel211', 'pixel212', 'pixel213', 'pixel214', 'pixel215', 'pixel216', 'pixel217', 'pixel218', 'pixel219', 'pixel220', 'pixel221', 'pixel222', 'pixel223', 'pixel224', 'pixel225', 'pixel226', 'pixel227', 'pixel228', 'pixel229', 'pixel230', 'pixel231', 'pixel232', 'pixel233', 'pixel234', 'pixel235', 'pixel236', 'pixel237', 'pixel238', 'pixel239', 'pixel240', 'pixel241', 'pixel242', 'pixel243', 'pixel244', 'pixel245', 'pixel246', 'pixel247', 'pixel248', 'pixel249', 'pixel250', 'pixel251', 'pixel252', 'pixel253', 'pixel254', 'pixel255', 'pixel256', 'pixel257', 'pixel258', 'pixel259', 'pixel260', 'pixel261', 'pixel262', 'pixel263', 'pixel264', 'pixel265', 'pixel266', 'pixel267', 'pixel268', 'pixel269', 'pixel270', 'pixel271', 'pixel272', 'pixel273', 'pixel274', 'pixel275', 'pixel276', 'pixel277', 'pixel278', 'pixel279', 'pixel280', 'pixel281', 'pixel282', 'pixel283', 'pixel284', 'pixel285', 'pixel286', 'pixel287', 'pixel288', 'pixel289', 'pixel290', 'pixel291', 'pixel292', 'pixel293', 'pixel294', 'pixel295', 'pixel296', 'pixel297', 'pixel298', 'pixel299', 'pixel300', 'pixel301', 'pixel302', 'pixel303', 'pixel304', 'pixel305', 'pixel306', 'pixel307', 'pixel308', 'pixel309', 'pixel310', 'pixel311', 'pixel312', 'pixel313', 'pixel314', 'pixel315', 'pixel316', 'pixel317', 'pixel318', 'pixel319', 'pixel320', 'pixel321', 'pixel322', 'pixel323', 'pixel324', 'pixel325', 'pixel326', 'pixel327', 'pixel328', 'pixel329', 'pixel330', 'pixel331', 'pixel332', 'pixel333', 'pixel334', 'pixel335', 'pixel336', 'pixel337', 'pixel338', 'pixel339', 'pixel340', 'pixel341', 'pixel342', 'pixel343', 'pixel344', 'pixel345', 'pixel346', 'pixel347', 'pixel348', 'pixel349', 'pixel350', 'pixel351', 'pixel352', 'pixel353', 'pixel354', 'pixel355', 'pixel356', 'pixel357', 'pixel358', 'pixel359', 'pixel360', 'pixel361', 'pixel362', 'pixel363', 'pixel364', 'pixel365', 'pixel366', 'pixel367', 'pixel368', 'pixel369', 'pixel370', 'pixel371', 'pixel372', 'pixel373', 'pixel374', 'pixel375', 'pixel376', 'pixel377', 'pixel378', 'pixel379', 'pixel380', 'pixel381', 'pixel382', 'pixel383', 'pixel384', 'pixel385', 'pixel386', 'pixel387', 'pixel388', 'pixel389', 'pixel390', 'pixel391', 'pixel392', 'pixel393', 'pixel394', 'pixel395', 'pixel396', 'pixel397', 'pixel398', 'pixel399', 'pixel400', 'pixel401', 'pixel402', 'pixel403', 'pixel404', 'pixel405', 'pixel406', 'pixel407', 'pixel408', 'pixel409', 'pixel410', 'pixel411', 'pixel412', 'pixel413', 'pixel414', 'pixel415', 'pixel416', 'pixel417', 'pixel418', 'pixel419', 'pixel420', 'pixel421', 'pixel422', 'pixel423', 'pixel424', 'pixel425', 'pixel426', 'pixel427', 'pixel428', 'pixel429', 'pixel430', 'pixel431', 'pixel432', 'pixel433', 'pixel434', 'pixel435', 'pixel436', 'pixel437', 'pixel438', 'pixel439', 'pixel440', 'pixel441', 'pixel442', 'pixel443', 'pixel444', 'pixel445', 'pixel446', 'pixel447', 'pixel448', 'pixel449', 'pixel450', 'pixel451', 'pixel452', 'pixel453', 'pixel454', 'pixel455', 'pixel456', 'pixel457', 'pixel458', 'pixel459', 'pixel460', 'pixel461', 'pixel462', 'pixel463', 'pixel464', 'pixel465', 'pixel466', 'pixel467', 'pixel468', 'pixel469', 'pixel470', 'pixel471', 'pixel472', 'pixel473', 'pixel474', 'pixel475', 'pixel476', 'pixel477', 'pixel478', 'pixel479', 'pixel480', 'pixel481', 'pixel482', 'pixel483', 'pixel484', 'pixel485', 'pixel486', 'pixel487', 'pixel488', 'pixel489', 'pixel490', 'pixel491', 'pixel492', 'pixel493', 'pixel494', 'pixel495', 'pixel496', 'pixel497', 'pixel498', 'pixel499', 'pixel500', 'pixel501', 'pixel502', 'pixel503', 'pixel504', 'pixel505', 'pixel506', 'pixel507', 'pixel508', 'pixel509', 'pixel510', 'pixel511', 'pixel512', 'pixel513', 'pixel514', 'pixel515', 'pixel516', 'pixel517', 'pixel518', 'pixel519', 'pixel520', 'pixel521', 'pixel522', 'pixel523', 'pixel524', 'pixel525', 'pixel526', 'pixel527', 'pixel528', 'pixel529', 'pixel530', 'pixel531', 'pixel532', 'pixel533', 'pixel534', 'pixel535', 'pixel536', 'pixel537', 'pixel538', 'pixel539', 'pixel540', 'pixel541', 'pixel542', 'pixel543', 'pixel544', 'pixel545', 'pixel546', 'pixel547', 'pixel548', 'pixel549', 'pixel550', 'pixel551', 'pixel552', 'pixel553', 'pixel554', 'pixel555', 'pixel556', 'pixel557', 'pixel558', 'pixel559', 'pixel560', 'pixel561', 'pixel562', 'pixel563', 'pixel564', 'pixel565', 'pixel566', 'pixel567', 'pixel568', 'pixel569', 'pixel570', 'pixel571', 'pixel572', 'pixel573', 'pixel574', 'pixel575', 'pixel576', 'pixel577', 'pixel578', 'pixel579', 'pixel580', 'pixel581', 'pixel582', 'pixel583', 'pixel584', 'pixel585', 'pixel586', 'pixel587', 'pixel588', 'pixel589', 'pixel590', 'pixel591', 'pixel592', 'pixel593', 'pixel594', 'pixel595', 'pixel596', 'pixel597', 'pixel598', 'pixel599', 'pixel600', 'pixel601', 'pixel602', 'pixel603', 'pixel604', 'pixel605', 'pixel606', 'pixel607', 'pixel608', 'pixel609', 'pixel610', 'pixel611', 'pixel612', 'pixel613', 'pixel614', 'pixel615', 'pixel616', 'pixel617', 'pixel618', 'pixel619', 'pixel620', 'pixel621', 'pixel622', 'pixel623', 'pixel624', 'pixel625', 'pixel626', 'pixel627', 'pixel628', 'pixel629', 'pixel630', 'pixel631', 'pixel632', 'pixel633', 'pixel634', 'pixel635', 'pixel636', 'pixel637', 'pixel638', 'pixel639', 'pixel640', 'pixel641', 'pixel642', 'pixel643', 'pixel644', 'pixel645', 'pixel646', 'pixel647', 'pixel648', 'pixel649', 'pixel650', 'pixel651', 'pixel652', 'pixel653', 'pixel654', 'pixel655', 'pixel656', 'pixel657', 'pixel658', 'pixel659', 'pixel660', 'pixel661', 'pixel662', 'pixel663', 'pixel664', 'pixel665', 'pixel666', 'pixel667', 'pixel668', 'pixel669', 'pixel670', 'pixel671', 'pixel672', 'pixel673', 'pixel674', 'pixel675', 'pixel676', 'pixel677', 'pixel678', 'pixel679', 'pixel680', 'pixel681', 'pixel682', 'pixel683', 'pixel684', 'pixel685', 'pixel686', 'pixel687', 'pixel688', 'pixel689', 'pixel690', 'pixel691', 'pixel692', 'pixel693', 'pixel694', 'pixel695', 'pixel696', 'pixel697', 'pixel698', 'pixel699', 'pixel700', 'pixel701', 'pixel702', 'pixel703', 'pixel704', 'pixel705', 'pixel706', 'pixel707', 'pixel708', 'pixel709', 'pixel710', 'pixel711', 'pixel712', 'pixel713', 'pixel714', 'pixel715', 'pixel716', 'pixel717', 'pixel718', 'pixel719', 'pixel720', 'pixel721', 'pixel722', 'pixel723', 'pixel724', 'pixel725', 'pixel726', 'pixel727', 'pixel728', 'pixel729', 'pixel730', 'pixel731', 'pixel732', 'pixel733', 'pixel734', 'pixel735', 'pixel736', 'pixel737', 'pixel738', 'pixel739', 'pixel740', 'pixel741', 'pixel742', 'pixel743', 'pixel744', 'pixel745', 'pixel746', 'pixel747', 'pixel748', 'pixel749', 'pixel750', 'pixel751', 'pixel752', 'pixel753', 'pixel754', 'pixel755', 'pixel756', 'pixel757', 'pixel758', 'pixel759', 'pixel760', 'pixel761', 'pixel762', 'pixel763', 'pixel764', 'pixel765', 'pixel766', 'pixel767', 'pixel768', 'pixel769', 'pixel770', 'pixel771', 'pixel772', 'pixel773', 'pixel774', 'pixel775', 'pixel776', 'pixel777', 'pixel778', 'pixel779', 'pixel780', 'pixel781', 'pixel782', 'pixel783', 'pixel784'], 'target_names': ['class'], 'DESCR': \"**Author**: Yann LeCun, Corinna Cortes, Christopher J.C. Burges  \\n**Source**: [MNIST Website](http://yann.lecun.com/exdb/mnist/) - Date unknown  \\n**Please cite**:  \\n\\nThe MNIST database of handwritten digits with 784 features, raw data available at: http://yann.lecun.com/exdb/mnist/. It can be split in a training set of the first 60,000 examples, and a test set of 10,000 examples  \\n\\nIt is a subset of a larger set available from NIST. The digits have been size-normalized and centered in a fixed-size image. It is a good database for people who want to try learning techniques and pattern recognition methods on real-world data while spending minimal efforts on preprocessing and formatting. The original black and white (bilevel) images from NIST were size normalized to fit in a 20x20 pixel box while preserving their aspect ratio. The resulting images contain grey levels as a result of the anti-aliasing technique used by the normalization algorithm. the images were centered in a 28x28 image by computing the center of mass of the pixels, and translating the image so as to position this point at the center of the 28x28 field.  \\n\\nWith some classification methods (particularly template-based methods, such as SVM and K-nearest neighbors), the error rate improves when the digits are centered by bounding box rather than center of mass. If you do this kind of pre-processing, you should report it in your publications. The MNIST database was constructed from NIST's NIST originally designated SD-3 as their training set and SD-1 as their test set. However, SD-3 is much cleaner and easier to recognize than SD-1. The reason for this can be found on the fact that SD-3 was collected among Census Bureau employees, while SD-1 was collected among high-school students. Drawing sensible conclusions from learning experiments requires that the result be independent of the choice of training set and test among the complete set of samples. Therefore it was necessary to build a new database by mixing NIST's datasets.  \\n\\nThe MNIST training set is composed of 30,000 patterns from SD-3 and 30,000 patterns from SD-1. Our test set was composed of 5,000 patterns from SD-3 and 5,000 patterns from SD-1. The 60,000 pattern training set contained examples from approximately 250 writers. We made sure that the sets of writers of the training set and test set were disjoint. SD-1 contains 58,527 digit images written by 500 different writers. In contrast to SD-3, where blocks of data from each writer appeared in sequence, the data in SD-1 is scrambled. Writer identities for SD-1 is available and we used this information to unscramble the writers. We then split SD-1 in two: characters written by the first 250 writers went into our new training set. The remaining 250 writers were placed in our test set. Thus we had two sets with nearly 30,000 examples each. The new training set was completed with enough examples from SD-3, starting at pattern # 0, to make a full set of 60,000 training patterns. Similarly, the new test set was completed with SD-3 examples starting at pattern # 35,000 to make a full set with 60,000 test patterns. Only a subset of 10,000 test images (5,000 from SD-1 and 5,000 from SD-3) is available on this site. The full 60,000 sample training set is available.\\n\\nDownloaded from openml.org.\", 'details': {'id': '554', 'name': 'mnist_784', 'version': '1', 'description_version': '2', 'format': 'ARFF', 'creator': ['Yann LeCun', 'Corinna Cortes', 'Christopher J.C. Burges'], 'upload_date': '2014-09-29T03:28:38', 'language': 'English', 'licence': 'Public', 'url': 'https://api.openml.org/data/v1/download/52667/mnist_784.arff', 'parquet_url': 'https://data.openml.org/datasets/0000/0554/dataset_554.pq', 'file_id': '52667', 'default_target_attribute': 'class', 'tag': ['Artificial Intelligence', 'AzurePilot', 'Computer Vision', 'Data Sets', 'Kaggle', 'Machine Learning', 'OpenML-CC18', 'OpenML100', 'study_1', 'study_123', 'study_41', 'study_99', 'vision'], 'visibility': 'public', 'minio_url': 'https://data.openml.org/datasets/0000/0554/dataset_554.pq', 'status': 'active', 'processing_date': '2020-11-20 20:12:09', 'md5_checksum': '0298d579eb1b86163de7723944c7e495'}, 'url': 'https://www.openml.org/d/554'}\n"
          ]
        }
      ]
    },
    {
      "cell_type": "markdown",
      "source": [
        "From the output, we can see the dataset object has too much haphazard‌ information. To inspect the object orderly, we need to use other function to show it in order. Here, some common function will be introduced in the following context and be exampled in the following code.\n",
        "\n",
        "1.   `dir()`\n",
        "\n",
        "2.   `vars()`\n",
        "\n",
        "3.   `help()`\n",
        "\n",
        "4.   `inspect.getmembers()`\n",
        "\n",
        "5.   `callable()`\n",
        "\n"
      ],
      "metadata": {
        "id": "eKR1lq8yQjP6"
      }
    },
    {
      "cell_type": "code",
      "source": [
        "dir(mnist)"
      ],
      "metadata": {
        "colab": {
          "base_uri": "https://localhost:8080/"
        },
        "id": "qqVtXYweQurC",
        "outputId": "19697421-5096-49a6-8b16-0eae9514108b"
      },
      "execution_count": null,
      "outputs": [
        {
          "output_type": "execute_result",
          "data": {
            "text/plain": [
              "['DESCR',\n",
              " 'categories',\n",
              " 'data',\n",
              " 'details',\n",
              " 'feature_names',\n",
              " 'frame',\n",
              " 'target',\n",
              " 'target_names',\n",
              " 'url']"
            ]
          },
          "metadata": {},
          "execution_count": 125
        }
      ]
    },
    {
      "cell_type": "code",
      "source": [
        "print(\"mnist.DESCR: \", mnist.DESCR)\n",
        "print(\"\\n--------------------------------------------------\\n\")\n",
        "\n",
        "print(f\"mnist.categories: {mnist.categories}\")\n",
        "print(\"\\n--------------------------------------------------\\n\")\n",
        "\n",
        "print(\"mnist.url: {}\".format(mnist.url))\n",
        "print(\"\\n--------------------------------------------------\\n\")\n",
        "\n",
        "print(\"mnist.feature_names: {}\".format(mnist.feature_names))\n",
        "print(\"\\n--------------------------------------------------\\n\")\n",
        "\n",
        "print(f\"mnist.target: {mnist.target}\")\n",
        "print(f\"mnist.target_name: {mnist.target_names}\")\n",
        "print(\"\\n--------------------------------------------------\\n\")\n",
        "\n",
        "\n",
        "print(\"mnist.frame: \", mnist.frame) # mnist.frame includes both data and target (labels)\n",
        "print(\"mnist.frame.shape: \", mnist.frame.shape)\n",
        "print(\"\\n--------------------------------------------------\\n\")\n",
        "\n",
        "print(\"mnist.data: %s\" %(mnist.data)) # mnist.frame only includes data\n",
        "print(\"minist.data.shape: %s\" %{mnist.data.shape})\n",
        "print(\"--------------------------------------------------\\n\")\n"
      ],
      "metadata": {
        "colab": {
          "base_uri": "https://localhost:8080/"
        },
        "id": "gei8oHKG-QlT",
        "outputId": "9fb0dd71-364f-4920-9721-0b2c1fe16dd5"
      },
      "execution_count": null,
      "outputs": [
        {
          "output_type": "stream",
          "name": "stdout",
          "text": [
            "mnist.DESCR:  **Author**: Yann LeCun, Corinna Cortes, Christopher J.C. Burges  \n",
            "**Source**: [MNIST Website](http://yann.lecun.com/exdb/mnist/) - Date unknown  \n",
            "**Please cite**:  \n",
            "\n",
            "The MNIST database of handwritten digits with 784 features, raw data available at: http://yann.lecun.com/exdb/mnist/. It can be split in a training set of the first 60,000 examples, and a test set of 10,000 examples  \n",
            "\n",
            "It is a subset of a larger set available from NIST. The digits have been size-normalized and centered in a fixed-size image. It is a good database for people who want to try learning techniques and pattern recognition methods on real-world data while spending minimal efforts on preprocessing and formatting. The original black and white (bilevel) images from NIST were size normalized to fit in a 20x20 pixel box while preserving their aspect ratio. The resulting images contain grey levels as a result of the anti-aliasing technique used by the normalization algorithm. the images were centered in a 28x28 image by computing the center of mass of the pixels, and translating the image so as to position this point at the center of the 28x28 field.  \n",
            "\n",
            "With some classification methods (particularly template-based methods, such as SVM and K-nearest neighbors), the error rate improves when the digits are centered by bounding box rather than center of mass. If you do this kind of pre-processing, you should report it in your publications. The MNIST database was constructed from NIST's NIST originally designated SD-3 as their training set and SD-1 as their test set. However, SD-3 is much cleaner and easier to recognize than SD-1. The reason for this can be found on the fact that SD-3 was collected among Census Bureau employees, while SD-1 was collected among high-school students. Drawing sensible conclusions from learning experiments requires that the result be independent of the choice of training set and test among the complete set of samples. Therefore it was necessary to build a new database by mixing NIST's datasets.  \n",
            "\n",
            "The MNIST training set is composed of 30,000 patterns from SD-3 and 30,000 patterns from SD-1. Our test set was composed of 5,000 patterns from SD-3 and 5,000 patterns from SD-1. The 60,000 pattern training set contained examples from approximately 250 writers. We made sure that the sets of writers of the training set and test set were disjoint. SD-1 contains 58,527 digit images written by 500 different writers. In contrast to SD-3, where blocks of data from each writer appeared in sequence, the data in SD-1 is scrambled. Writer identities for SD-1 is available and we used this information to unscramble the writers. We then split SD-1 in two: characters written by the first 250 writers went into our new training set. The remaining 250 writers were placed in our test set. Thus we had two sets with nearly 30,000 examples each. The new training set was completed with enough examples from SD-3, starting at pattern # 0, to make a full set of 60,000 training patterns. Similarly, the new test set was completed with SD-3 examples starting at pattern # 35,000 to make a full set with 60,000 test patterns. Only a subset of 10,000 test images (5,000 from SD-1 and 5,000 from SD-3) is available on this site. The full 60,000 sample training set is available.\n",
            "\n",
            "Downloaded from openml.org.\n",
            "\n",
            "--------------------------------------------------\n",
            "\n",
            "mnist.categories: None\n",
            "\n",
            "--------------------------------------------------\n",
            "\n",
            "mnist.url: https://www.openml.org/d/554\n",
            "\n",
            "--------------------------------------------------\n",
            "\n",
            "mnist.feature_names: ['pixel1', 'pixel2', 'pixel3', 'pixel4', 'pixel5', 'pixel6', 'pixel7', 'pixel8', 'pixel9', 'pixel10', 'pixel11', 'pixel12', 'pixel13', 'pixel14', 'pixel15', 'pixel16', 'pixel17', 'pixel18', 'pixel19', 'pixel20', 'pixel21', 'pixel22', 'pixel23', 'pixel24', 'pixel25', 'pixel26', 'pixel27', 'pixel28', 'pixel29', 'pixel30', 'pixel31', 'pixel32', 'pixel33', 'pixel34', 'pixel35', 'pixel36', 'pixel37', 'pixel38', 'pixel39', 'pixel40', 'pixel41', 'pixel42', 'pixel43', 'pixel44', 'pixel45', 'pixel46', 'pixel47', 'pixel48', 'pixel49', 'pixel50', 'pixel51', 'pixel52', 'pixel53', 'pixel54', 'pixel55', 'pixel56', 'pixel57', 'pixel58', 'pixel59', 'pixel60', 'pixel61', 'pixel62', 'pixel63', 'pixel64', 'pixel65', 'pixel66', 'pixel67', 'pixel68', 'pixel69', 'pixel70', 'pixel71', 'pixel72', 'pixel73', 'pixel74', 'pixel75', 'pixel76', 'pixel77', 'pixel78', 'pixel79', 'pixel80', 'pixel81', 'pixel82', 'pixel83', 'pixel84', 'pixel85', 'pixel86', 'pixel87', 'pixel88', 'pixel89', 'pixel90', 'pixel91', 'pixel92', 'pixel93', 'pixel94', 'pixel95', 'pixel96', 'pixel97', 'pixel98', 'pixel99', 'pixel100', 'pixel101', 'pixel102', 'pixel103', 'pixel104', 'pixel105', 'pixel106', 'pixel107', 'pixel108', 'pixel109', 'pixel110', 'pixel111', 'pixel112', 'pixel113', 'pixel114', 'pixel115', 'pixel116', 'pixel117', 'pixel118', 'pixel119', 'pixel120', 'pixel121', 'pixel122', 'pixel123', 'pixel124', 'pixel125', 'pixel126', 'pixel127', 'pixel128', 'pixel129', 'pixel130', 'pixel131', 'pixel132', 'pixel133', 'pixel134', 'pixel135', 'pixel136', 'pixel137', 'pixel138', 'pixel139', 'pixel140', 'pixel141', 'pixel142', 'pixel143', 'pixel144', 'pixel145', 'pixel146', 'pixel147', 'pixel148', 'pixel149', 'pixel150', 'pixel151', 'pixel152', 'pixel153', 'pixel154', 'pixel155', 'pixel156', 'pixel157', 'pixel158', 'pixel159', 'pixel160', 'pixel161', 'pixel162', 'pixel163', 'pixel164', 'pixel165', 'pixel166', 'pixel167', 'pixel168', 'pixel169', 'pixel170', 'pixel171', 'pixel172', 'pixel173', 'pixel174', 'pixel175', 'pixel176', 'pixel177', 'pixel178', 'pixel179', 'pixel180', 'pixel181', 'pixel182', 'pixel183', 'pixel184', 'pixel185', 'pixel186', 'pixel187', 'pixel188', 'pixel189', 'pixel190', 'pixel191', 'pixel192', 'pixel193', 'pixel194', 'pixel195', 'pixel196', 'pixel197', 'pixel198', 'pixel199', 'pixel200', 'pixel201', 'pixel202', 'pixel203', 'pixel204', 'pixel205', 'pixel206', 'pixel207', 'pixel208', 'pixel209', 'pixel210', 'pixel211', 'pixel212', 'pixel213', 'pixel214', 'pixel215', 'pixel216', 'pixel217', 'pixel218', 'pixel219', 'pixel220', 'pixel221', 'pixel222', 'pixel223', 'pixel224', 'pixel225', 'pixel226', 'pixel227', 'pixel228', 'pixel229', 'pixel230', 'pixel231', 'pixel232', 'pixel233', 'pixel234', 'pixel235', 'pixel236', 'pixel237', 'pixel238', 'pixel239', 'pixel240', 'pixel241', 'pixel242', 'pixel243', 'pixel244', 'pixel245', 'pixel246', 'pixel247', 'pixel248', 'pixel249', 'pixel250', 'pixel251', 'pixel252', 'pixel253', 'pixel254', 'pixel255', 'pixel256', 'pixel257', 'pixel258', 'pixel259', 'pixel260', 'pixel261', 'pixel262', 'pixel263', 'pixel264', 'pixel265', 'pixel266', 'pixel267', 'pixel268', 'pixel269', 'pixel270', 'pixel271', 'pixel272', 'pixel273', 'pixel274', 'pixel275', 'pixel276', 'pixel277', 'pixel278', 'pixel279', 'pixel280', 'pixel281', 'pixel282', 'pixel283', 'pixel284', 'pixel285', 'pixel286', 'pixel287', 'pixel288', 'pixel289', 'pixel290', 'pixel291', 'pixel292', 'pixel293', 'pixel294', 'pixel295', 'pixel296', 'pixel297', 'pixel298', 'pixel299', 'pixel300', 'pixel301', 'pixel302', 'pixel303', 'pixel304', 'pixel305', 'pixel306', 'pixel307', 'pixel308', 'pixel309', 'pixel310', 'pixel311', 'pixel312', 'pixel313', 'pixel314', 'pixel315', 'pixel316', 'pixel317', 'pixel318', 'pixel319', 'pixel320', 'pixel321', 'pixel322', 'pixel323', 'pixel324', 'pixel325', 'pixel326', 'pixel327', 'pixel328', 'pixel329', 'pixel330', 'pixel331', 'pixel332', 'pixel333', 'pixel334', 'pixel335', 'pixel336', 'pixel337', 'pixel338', 'pixel339', 'pixel340', 'pixel341', 'pixel342', 'pixel343', 'pixel344', 'pixel345', 'pixel346', 'pixel347', 'pixel348', 'pixel349', 'pixel350', 'pixel351', 'pixel352', 'pixel353', 'pixel354', 'pixel355', 'pixel356', 'pixel357', 'pixel358', 'pixel359', 'pixel360', 'pixel361', 'pixel362', 'pixel363', 'pixel364', 'pixel365', 'pixel366', 'pixel367', 'pixel368', 'pixel369', 'pixel370', 'pixel371', 'pixel372', 'pixel373', 'pixel374', 'pixel375', 'pixel376', 'pixel377', 'pixel378', 'pixel379', 'pixel380', 'pixel381', 'pixel382', 'pixel383', 'pixel384', 'pixel385', 'pixel386', 'pixel387', 'pixel388', 'pixel389', 'pixel390', 'pixel391', 'pixel392', 'pixel393', 'pixel394', 'pixel395', 'pixel396', 'pixel397', 'pixel398', 'pixel399', 'pixel400', 'pixel401', 'pixel402', 'pixel403', 'pixel404', 'pixel405', 'pixel406', 'pixel407', 'pixel408', 'pixel409', 'pixel410', 'pixel411', 'pixel412', 'pixel413', 'pixel414', 'pixel415', 'pixel416', 'pixel417', 'pixel418', 'pixel419', 'pixel420', 'pixel421', 'pixel422', 'pixel423', 'pixel424', 'pixel425', 'pixel426', 'pixel427', 'pixel428', 'pixel429', 'pixel430', 'pixel431', 'pixel432', 'pixel433', 'pixel434', 'pixel435', 'pixel436', 'pixel437', 'pixel438', 'pixel439', 'pixel440', 'pixel441', 'pixel442', 'pixel443', 'pixel444', 'pixel445', 'pixel446', 'pixel447', 'pixel448', 'pixel449', 'pixel450', 'pixel451', 'pixel452', 'pixel453', 'pixel454', 'pixel455', 'pixel456', 'pixel457', 'pixel458', 'pixel459', 'pixel460', 'pixel461', 'pixel462', 'pixel463', 'pixel464', 'pixel465', 'pixel466', 'pixel467', 'pixel468', 'pixel469', 'pixel470', 'pixel471', 'pixel472', 'pixel473', 'pixel474', 'pixel475', 'pixel476', 'pixel477', 'pixel478', 'pixel479', 'pixel480', 'pixel481', 'pixel482', 'pixel483', 'pixel484', 'pixel485', 'pixel486', 'pixel487', 'pixel488', 'pixel489', 'pixel490', 'pixel491', 'pixel492', 'pixel493', 'pixel494', 'pixel495', 'pixel496', 'pixel497', 'pixel498', 'pixel499', 'pixel500', 'pixel501', 'pixel502', 'pixel503', 'pixel504', 'pixel505', 'pixel506', 'pixel507', 'pixel508', 'pixel509', 'pixel510', 'pixel511', 'pixel512', 'pixel513', 'pixel514', 'pixel515', 'pixel516', 'pixel517', 'pixel518', 'pixel519', 'pixel520', 'pixel521', 'pixel522', 'pixel523', 'pixel524', 'pixel525', 'pixel526', 'pixel527', 'pixel528', 'pixel529', 'pixel530', 'pixel531', 'pixel532', 'pixel533', 'pixel534', 'pixel535', 'pixel536', 'pixel537', 'pixel538', 'pixel539', 'pixel540', 'pixel541', 'pixel542', 'pixel543', 'pixel544', 'pixel545', 'pixel546', 'pixel547', 'pixel548', 'pixel549', 'pixel550', 'pixel551', 'pixel552', 'pixel553', 'pixel554', 'pixel555', 'pixel556', 'pixel557', 'pixel558', 'pixel559', 'pixel560', 'pixel561', 'pixel562', 'pixel563', 'pixel564', 'pixel565', 'pixel566', 'pixel567', 'pixel568', 'pixel569', 'pixel570', 'pixel571', 'pixel572', 'pixel573', 'pixel574', 'pixel575', 'pixel576', 'pixel577', 'pixel578', 'pixel579', 'pixel580', 'pixel581', 'pixel582', 'pixel583', 'pixel584', 'pixel585', 'pixel586', 'pixel587', 'pixel588', 'pixel589', 'pixel590', 'pixel591', 'pixel592', 'pixel593', 'pixel594', 'pixel595', 'pixel596', 'pixel597', 'pixel598', 'pixel599', 'pixel600', 'pixel601', 'pixel602', 'pixel603', 'pixel604', 'pixel605', 'pixel606', 'pixel607', 'pixel608', 'pixel609', 'pixel610', 'pixel611', 'pixel612', 'pixel613', 'pixel614', 'pixel615', 'pixel616', 'pixel617', 'pixel618', 'pixel619', 'pixel620', 'pixel621', 'pixel622', 'pixel623', 'pixel624', 'pixel625', 'pixel626', 'pixel627', 'pixel628', 'pixel629', 'pixel630', 'pixel631', 'pixel632', 'pixel633', 'pixel634', 'pixel635', 'pixel636', 'pixel637', 'pixel638', 'pixel639', 'pixel640', 'pixel641', 'pixel642', 'pixel643', 'pixel644', 'pixel645', 'pixel646', 'pixel647', 'pixel648', 'pixel649', 'pixel650', 'pixel651', 'pixel652', 'pixel653', 'pixel654', 'pixel655', 'pixel656', 'pixel657', 'pixel658', 'pixel659', 'pixel660', 'pixel661', 'pixel662', 'pixel663', 'pixel664', 'pixel665', 'pixel666', 'pixel667', 'pixel668', 'pixel669', 'pixel670', 'pixel671', 'pixel672', 'pixel673', 'pixel674', 'pixel675', 'pixel676', 'pixel677', 'pixel678', 'pixel679', 'pixel680', 'pixel681', 'pixel682', 'pixel683', 'pixel684', 'pixel685', 'pixel686', 'pixel687', 'pixel688', 'pixel689', 'pixel690', 'pixel691', 'pixel692', 'pixel693', 'pixel694', 'pixel695', 'pixel696', 'pixel697', 'pixel698', 'pixel699', 'pixel700', 'pixel701', 'pixel702', 'pixel703', 'pixel704', 'pixel705', 'pixel706', 'pixel707', 'pixel708', 'pixel709', 'pixel710', 'pixel711', 'pixel712', 'pixel713', 'pixel714', 'pixel715', 'pixel716', 'pixel717', 'pixel718', 'pixel719', 'pixel720', 'pixel721', 'pixel722', 'pixel723', 'pixel724', 'pixel725', 'pixel726', 'pixel727', 'pixel728', 'pixel729', 'pixel730', 'pixel731', 'pixel732', 'pixel733', 'pixel734', 'pixel735', 'pixel736', 'pixel737', 'pixel738', 'pixel739', 'pixel740', 'pixel741', 'pixel742', 'pixel743', 'pixel744', 'pixel745', 'pixel746', 'pixel747', 'pixel748', 'pixel749', 'pixel750', 'pixel751', 'pixel752', 'pixel753', 'pixel754', 'pixel755', 'pixel756', 'pixel757', 'pixel758', 'pixel759', 'pixel760', 'pixel761', 'pixel762', 'pixel763', 'pixel764', 'pixel765', 'pixel766', 'pixel767', 'pixel768', 'pixel769', 'pixel770', 'pixel771', 'pixel772', 'pixel773', 'pixel774', 'pixel775', 'pixel776', 'pixel777', 'pixel778', 'pixel779', 'pixel780', 'pixel781', 'pixel782', 'pixel783', 'pixel784']\n",
            "\n",
            "--------------------------------------------------\n",
            "\n",
            "mnist.target: 0        5\n",
            "1        0\n",
            "2        4\n",
            "3        1\n",
            "4        9\n",
            "        ..\n",
            "69995    2\n",
            "69996    3\n",
            "69997    4\n",
            "69998    5\n",
            "69999    6\n",
            "Name: class, Length: 70000, dtype: category\n",
            "Categories (10, object): ['0', '1', '2', '3', ..., '6', '7', '8', '9']\n",
            "mnist.target_name: ['class']\n",
            "\n",
            "--------------------------------------------------\n",
            "\n",
            "mnist.frame:         pixel1  pixel2  pixel3  pixel4  pixel5  pixel6  pixel7  pixel8  pixel9  \\\n",
            "0           0       0       0       0       0       0       0       0       0   \n",
            "1           0       0       0       0       0       0       0       0       0   \n",
            "2           0       0       0       0       0       0       0       0       0   \n",
            "3           0       0       0       0       0       0       0       0       0   \n",
            "4           0       0       0       0       0       0       0       0       0   \n",
            "...       ...     ...     ...     ...     ...     ...     ...     ...     ...   \n",
            "69995       0       0       0       0       0       0       0       0       0   \n",
            "69996       0       0       0       0       0       0       0       0       0   \n",
            "69997       0       0       0       0       0       0       0       0       0   \n",
            "69998       0       0       0       0       0       0       0       0       0   \n",
            "69999       0       0       0       0       0       0       0       0       0   \n",
            "\n",
            "       pixel10  ...  pixel776  pixel777  pixel778  pixel779  pixel780  \\\n",
            "0            0  ...         0         0         0         0         0   \n",
            "1            0  ...         0         0         0         0         0   \n",
            "2            0  ...         0         0         0         0         0   \n",
            "3            0  ...         0         0         0         0         0   \n",
            "4            0  ...         0         0         0         0         0   \n",
            "...        ...  ...       ...       ...       ...       ...       ...   \n",
            "69995        0  ...         0         0         0         0         0   \n",
            "69996        0  ...         0         0         0         0         0   \n",
            "69997        0  ...         0         0         0         0         0   \n",
            "69998        0  ...         0         0         0         0         0   \n",
            "69999        0  ...         0         0         0         0         0   \n",
            "\n",
            "       pixel781  pixel782  pixel783  pixel784  class  \n",
            "0             0         0         0         0      5  \n",
            "1             0         0         0         0      0  \n",
            "2             0         0         0         0      4  \n",
            "3             0         0         0         0      1  \n",
            "4             0         0         0         0      9  \n",
            "...         ...       ...       ...       ...    ...  \n",
            "69995         0         0         0         0      2  \n",
            "69996         0         0         0         0      3  \n",
            "69997         0         0         0         0      4  \n",
            "69998         0         0         0         0      5  \n",
            "69999         0         0         0         0      6  \n",
            "\n",
            "[70000 rows x 785 columns]\n",
            "mnist.frame.shape:  (70000, 785)\n",
            "\n",
            "--------------------------------------------------\n",
            "\n",
            "mnist.data:        pixel1  pixel2  pixel3  pixel4  pixel5  pixel6  pixel7  pixel8  pixel9  \\\n",
            "0           0       0       0       0       0       0       0       0       0   \n",
            "1           0       0       0       0       0       0       0       0       0   \n",
            "2           0       0       0       0       0       0       0       0       0   \n",
            "3           0       0       0       0       0       0       0       0       0   \n",
            "4           0       0       0       0       0       0       0       0       0   \n",
            "...       ...     ...     ...     ...     ...     ...     ...     ...     ...   \n",
            "69995       0       0       0       0       0       0       0       0       0   \n",
            "69996       0       0       0       0       0       0       0       0       0   \n",
            "69997       0       0       0       0       0       0       0       0       0   \n",
            "69998       0       0       0       0       0       0       0       0       0   \n",
            "69999       0       0       0       0       0       0       0       0       0   \n",
            "\n",
            "       pixel10  ...  pixel775  pixel776  pixel777  pixel778  pixel779  \\\n",
            "0            0  ...         0         0         0         0         0   \n",
            "1            0  ...         0         0         0         0         0   \n",
            "2            0  ...         0         0         0         0         0   \n",
            "3            0  ...         0         0         0         0         0   \n",
            "4            0  ...         0         0         0         0         0   \n",
            "...        ...  ...       ...       ...       ...       ...       ...   \n",
            "69995        0  ...         0         0         0         0         0   \n",
            "69996        0  ...         0         0         0         0         0   \n",
            "69997        0  ...         0         0         0         0         0   \n",
            "69998        0  ...         0         0         0         0         0   \n",
            "69999        0  ...         0         0         0         0         0   \n",
            "\n",
            "       pixel780  pixel781  pixel782  pixel783  pixel784  \n",
            "0             0         0         0         0         0  \n",
            "1             0         0         0         0         0  \n",
            "2             0         0         0         0         0  \n",
            "3             0         0         0         0         0  \n",
            "4             0         0         0         0         0  \n",
            "...         ...       ...       ...       ...       ...  \n",
            "69995         0         0         0         0         0  \n",
            "69996         0         0         0         0         0  \n",
            "69997         0         0         0         0         0  \n",
            "69998         0         0         0         0         0  \n",
            "69999         0         0         0         0         0  \n",
            "\n",
            "[70000 rows x 784 columns]\n",
            "minist.data.shape: {(70000, 784)}\n",
            "--------------------------------------------------\n",
            "\n"
          ]
        }
      ]
    },
    {
      "cell_type": "code",
      "source": [
        "X = mnist['data']\n",
        "y = mnist['target']\n",
        "\n",
        "# 查看数据维度\n",
        "print(X.shape)  # 特征的维度： (70000, 784) [28 x 28 = 784]\n",
        "print(y.shape)  # 标签的维度： (70000,)"
      ],
      "metadata": {
        "colab": {
          "base_uri": "https://localhost:8080/"
        },
        "id": "h3z5Dvq7N-fV",
        "outputId": "eb52c21d-bfc4-4a44-8131-c5e706c0b3e2"
      },
      "execution_count": null,
      "outputs": [
        {
          "output_type": "stream",
          "name": "stdout",
          "text": [
            "(70000, 784)\n",
            "(70000,)\n"
          ]
        }
      ]
    },
    {
      "cell_type": "code",
      "source": [
        "# visualize first image of this dataset in gray model\n",
        "plt.imshow(mnist.data.iloc[0].values.reshape(28, 28), cmap=\"gray\")\n",
        "\n",
        "# draw the image\n",
        "plt.show()"
      ],
      "metadata": {
        "colab": {
          "base_uri": "https://localhost:8080/",
          "height": 430
        },
        "id": "RqDvomplN6rn",
        "outputId": "ecc43b3f-df5f-4c5b-fb6e-53dc41d93380"
      },
      "execution_count": null,
      "outputs": [
        {
          "output_type": "display_data",
          "data": {
            "text/plain": [
              "<Figure size 640x480 with 1 Axes>"
            ],
            "image/png": "[encoded data removed]"
          },
          "metadata": {}
        }
      ]
    },
    {
      "cell_type": "markdown",
      "source": [
        "To display a 3x3 grid of images using matplotlib, you can use `plt.subplot()` to create subplots within the same figure. This allows you to control the layout of the images."
      ],
      "metadata": {
        "id": "BEtKVfCNPiyS"
      }
    },
    {
      "cell_type": "code",
      "source": [
        "# Create a 3x3 grid of subplots using plt.subplots() for better layout control\n",
        "fig, axes = plt.subplots(3, 3, figsize=(9, 9))\n",
        "print(\"fig: \", fig) # This is the figure object, which represents the entire window or page where your plot(s) will be drawn. A figure can contain multiple subplots, titles, legends, labels, etc. It's the \"canvas\" that holds all of the plotting elements.\n",
        "print(\"axes: \", axes)\n",
        "\n",
        "print(\"\\n----------------------------------------------------------------------------------------------------\\n\")\n",
        "\n",
        "# Loop through each subplot and display the images\n",
        "for i in range(9):  # 9 images for 3x3 grid\n",
        "    ax = axes[i // 3, i % 3]  # Calculate the correct subplot (row, col) Notes: \"//\" stands for to be divisible by or exact division, \"%\" stands for mode operator\n",
        "    ax.imshow(mnist.data.iloc[i].values.reshape(28, 28), cmap=\"gray\")\n",
        "    ax.set_title(f\"The target number is {mnist.target.iloc[i]}.\")  # return the title by target values\n",
        "    ax.axis('off')  # Hide axis for better visualization\n",
        "\n",
        "# Adjust the layout to avoid overlap\n",
        "plt.tight_layout(pad=3.0)  # Increase the padding between subplots\n",
        "plt.show()"
      ],
      "metadata": {
        "colab": {
          "base_uri": "https://localhost:8080/",
          "height": 972
        },
        "id": "OdbeDp1XO7Pw",
        "outputId": "5e5c0bf2-10c5-47b5-b6a0-c3bd46fcd277"
      },
      "execution_count": null,
      "outputs": [
        {
          "output_type": "stream",
          "name": "stdout",
          "text": [
            "fig:  Figure(900x900)\n",
            "axes:  [[<Axes: > <Axes: > <Axes: >]\n",
            " [<Axes: > <Axes: > <Axes: >]\n",
            " [<Axes: > <Axes: > <Axes: >]]\n",
            "\n",
            "----------------------------------------------------------------------------------------------------\n",
            "\n"
          ]
        },
        {
          "output_type": "display_data",
          "data": {
            "text/plain": [
              "<Figure size 900x900 with 9 Axes>"
            ],
            "image/png": "[encoded data removed]"
          },
          "metadata": {}
        }
      ]
    },
    {
      "cell_type": "markdown",
      "source": [
        "### 2.8. Problem\n",
        "The key problem is **How can the computer recognize and return  the correct target number given arbitary gray color picture?** Because the computer is binary system, it only read and write 0 and 1.\n",
        "\n",
        "To solve this problem, the **machine learning** is introduced. We will learn and solve it in later chapter."
      ],
      "metadata": {
        "id": "xK40b5jVSuvs"
      }
    }
  ]
}